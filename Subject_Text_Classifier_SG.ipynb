{
  "cells": [
    {
      "cell_type": "markdown",
      "id": "steady-local",
      "metadata": {
        "id": "steady-local"
      },
      "source": [
        "# Information Retrieval Subject Text Classifier (STW7071CEM )- Subash Gautam\n",
        "\n",
        "Task:\n",
        "Whether as a separate program or integrated with search engine, a subject classification functionality is needed. More specifically, the input is a scientific text and the output is its subject among zero or more of the cases: Health, Sports, Business etc.\n",
        "\n",
        "This program implements a text classifier using a NLP techniques and a selection of classification algorithms.\n",
        "\n",
        "Based on the datasets sourced, the three chosen classifications are:\n",
        "\n",
        "* Business\n",
        "* Health\n",
        "* Sports"
      ]
    },
    {
      "cell_type": "markdown",
      "id": "pressed-gateway",
      "metadata": {
        "id": "pressed-gateway"
      },
      "source": [
        "## Imports"
      ]
    },
    {
      "cell_type": "code",
      "execution_count": null,
      "id": "second-memphis",
      "metadata": {
        "ExecuteTime": {
          "end_time": "2021-08-01T01:59:41.760225Z",
          "start_time": "2021-08-01T01:59:41.515144Z"
        },
        "id": "second-memphis",
        "colab": {
          "base_uri": "https://localhost:8080/"
        },
        "outputId": "9728a9fb-6f85-4e4d-9dd3-7f24e9896f92"
      },
      "outputs": [
        {
          "output_type": "stream",
          "name": "stderr",
          "text": [
            "[nltk_data] Downloading package stopwords to /root/nltk_data...\n",
            "[nltk_data]   Package stopwords is already up-to-date!\n",
            "[nltk_data] Downloading package averaged_perceptron_tagger to\n",
            "[nltk_data]     /root/nltk_data...\n",
            "[nltk_data]   Package averaged_perceptron_tagger is already up-to-\n",
            "[nltk_data]       date!\n"
          ]
        }
      ],
      "source": [
        "import os\n",
        "import string\n",
        "# Data Handling and Processing\n",
        "import pandas as pd\n",
        "import numpy as np\n",
        "import re\n",
        "from scipy import interp\n",
        "# Visualuzation\n",
        "import matplotlib.pyplot as plt\n",
        "%matplotlib inline\n",
        "%config InlineBackend.figure_format='retina'\n",
        "# NLP Packages\n",
        "from nltk.tokenize import word_tokenize\n",
        "from nltk.corpus import stopwords, wordnet\n",
        "from nltk.stem import WordNetLemmatizer\n",
        "from nltk import pos_tag\n",
        "import nltk\n",
        "nltk.download('stopwords')\n",
        "nltk.download('averaged_perceptron_tagger')\n",
        "from joblib import dump, load\n",
        "# ML Models\n",
        "from sklearn.linear_model import LogisticRegression\n",
        "from sklearn.naive_bayes import MultinomialNB\n",
        "from sklearn.linear_model import RidgeClassifier\n",
        "from sklearn.tree import DecisionTreeClassifier\n",
        "# Scikit Learn packages\n",
        "from sklearn.base import clone\n",
        "from sklearn.preprocessing import label_binarize, LabelEncoder\n",
        "from sklearn.feature_extraction.text import TfidfVectorizer, CountVectorizer\n",
        "from sklearn.model_selection import KFold, cross_validate, cross_val_score, train_test_split\n",
        "from sklearn.pipeline import Pipeline\n",
        "from sklearn import metrics\n",
        "from sklearn.metrics import roc_curve, auc\n"
      ]
    },
    {
      "cell_type": "markdown",
      "id": "indonesian-postage",
      "metadata": {
        "id": "indonesian-postage"
      },
      "source": [
        "# Load Datasets"
      ]
    },
    {
      "cell_type": "code",
      "execution_count": null,
      "id": "hired-programmer",
      "metadata": {
        "ExecuteTime": {
          "end_time": "2021-08-01T01:38:04.931143Z",
          "start_time": "2021-08-01T01:38:04.913935Z"
        },
        "id": "hired-programmer"
      },
      "outputs": [],
      "source": []
    },
    {
      "cell_type": "code",
      "execution_count": null,
      "id": "familiar-history",
      "metadata": {
        "ExecuteTime": {
          "end_time": "2021-08-01T01:42:07.905926Z",
          "start_time": "2021-08-01T01:42:07.816237Z"
        },
        "id": "familiar-history",
        "outputId": "830fbb21-1685-4a7e-90f2-1ada940379bb",
        "colab": {
          "base_uri": "https://localhost:8080/",
          "height": 49
        }
      },
      "outputs": [
        {
          "output_type": "execute_result",
          "data": {
            "text/plain": [
              "Empty DataFrame\n",
              "Columns: [Text, Class]\n",
              "Index: []"
            ],
            "text/html": [
              "\n",
              "  <div id=\"df-c7735827-b704-4104-b819-f846d33f6967\">\n",
              "    <div class=\"colab-df-container\">\n",
              "      <div>\n",
              "<style scoped>\n",
              "    .dataframe tbody tr th:only-of-type {\n",
              "        vertical-align: middle;\n",
              "    }\n",
              "\n",
              "    .dataframe tbody tr th {\n",
              "        vertical-align: top;\n",
              "    }\n",
              "\n",
              "    .dataframe thead th {\n",
              "        text-align: right;\n",
              "    }\n",
              "</style>\n",
              "<table border=\"1\" class=\"dataframe\">\n",
              "  <thead>\n",
              "    <tr style=\"text-align: right;\">\n",
              "      <th></th>\n",
              "      <th>Text</th>\n",
              "      <th>Class</th>\n",
              "    </tr>\n",
              "  </thead>\n",
              "  <tbody>\n",
              "  </tbody>\n",
              "</table>\n",
              "</div>\n",
              "      <button class=\"colab-df-convert\" onclick=\"convertToInteractive('df-c7735827-b704-4104-b819-f846d33f6967')\"\n",
              "              title=\"Convert this dataframe to an interactive table.\"\n",
              "              style=\"display:none;\">\n",
              "        \n",
              "  <svg xmlns=\"http://www.w3.org/2000/svg\" height=\"24px\"viewBox=\"0 0 24 24\"\n",
              "       width=\"24px\">\n",
              "    <path d=\"M0 0h24v24H0V0z\" fill=\"none\"/>\n",
              "    <path d=\"M18.56 5.44l.94 2.06.94-2.06 2.06-.94-2.06-.94-.94-2.06-.94 2.06-2.06.94zm-11 1L8.5 8.5l.94-2.06 2.06-.94-2.06-.94L8.5 2.5l-.94 2.06-2.06.94zm10 10l.94 2.06.94-2.06 2.06-.94-2.06-.94-.94-2.06-.94 2.06-2.06.94z\"/><path d=\"M17.41 7.96l-1.37-1.37c-.4-.4-.92-.59-1.43-.59-.52 0-1.04.2-1.43.59L10.3 9.45l-7.72 7.72c-.78.78-.78 2.05 0 2.83L4 21.41c.39.39.9.59 1.41.59.51 0 1.02-.2 1.41-.59l7.78-7.78 2.81-2.81c.8-.78.8-2.07 0-2.86zM5.41 20L4 18.59l7.72-7.72 1.47 1.35L5.41 20z\"/>\n",
              "  </svg>\n",
              "      </button>\n",
              "      \n",
              "  <style>\n",
              "    .colab-df-container {\n",
              "      display:flex;\n",
              "      flex-wrap:wrap;\n",
              "      gap: 12px;\n",
              "    }\n",
              "\n",
              "    .colab-df-convert {\n",
              "      background-color: #E8F0FE;\n",
              "      border: none;\n",
              "      border-radius: 50%;\n",
              "      cursor: pointer;\n",
              "      display: none;\n",
              "      fill: #1967D2;\n",
              "      height: 32px;\n",
              "      padding: 0 0 0 0;\n",
              "      width: 32px;\n",
              "    }\n",
              "\n",
              "    .colab-df-convert:hover {\n",
              "      background-color: #E2EBFA;\n",
              "      box-shadow: 0px 1px 2px rgba(60, 64, 67, 0.3), 0px 1px 3px 1px rgba(60, 64, 67, 0.15);\n",
              "      fill: #174EA6;\n",
              "    }\n",
              "\n",
              "    [theme=dark] .colab-df-convert {\n",
              "      background-color: #3B4455;\n",
              "      fill: #D2E3FC;\n",
              "    }\n",
              "\n",
              "    [theme=dark] .colab-df-convert:hover {\n",
              "      background-color: #434B5C;\n",
              "      box-shadow: 0px 1px 3px 1px rgba(0, 0, 0, 0.15);\n",
              "      filter: drop-shadow(0px 1px 2px rgba(0, 0, 0, 0.3));\n",
              "      fill: #FFFFFF;\n",
              "    }\n",
              "  </style>\n",
              "\n",
              "      <script>\n",
              "        const buttonEl =\n",
              "          document.querySelector('#df-c7735827-b704-4104-b819-f846d33f6967 button.colab-df-convert');\n",
              "        buttonEl.style.display =\n",
              "          google.colab.kernel.accessAllowed ? 'block' : 'none';\n",
              "\n",
              "        async function convertToInteractive(key) {\n",
              "          const element = document.querySelector('#df-c7735827-b704-4104-b819-f846d33f6967');\n",
              "          const dataTable =\n",
              "            await google.colab.kernel.invokeFunction('convertToInteractive',\n",
              "                                                     [key], {});\n",
              "          if (!dataTable) return;\n",
              "\n",
              "          const docLinkHtml = 'Like what you see? Visit the ' +\n",
              "            '<a target=\"_blank\" href=https://colab.research.google.com/notebooks/data_table.ipynb>data table notebook</a>'\n",
              "            + ' to learn more about interactive tables.';\n",
              "          element.innerHTML = '';\n",
              "          dataTable['output_type'] = 'display_data';\n",
              "          await google.colab.output.renderOutput(dataTable, element);\n",
              "          const docLink = document.createElement('div');\n",
              "          docLink.innerHTML = docLinkHtml;\n",
              "          element.appendChild(docLink);\n",
              "        }\n",
              "      </script>\n",
              "    </div>\n",
              "  </div>\n",
              "  "
            ]
          },
          "metadata": {},
          "execution_count": 49
        }
      ],
      "source": [
        "text_df = pd.DataFrame(columns=['Text','Class'])\n",
        "# text_df.to_csv('subject_class.csv')\n",
        "text_df.head()"
      ]
    },
    {
      "cell_type": "code",
      "execution_count": null,
      "id": "german-confidence",
      "metadata": {
        "ExecuteTime": {
          "end_time": "2021-08-01T01:45:35.332747Z",
          "start_time": "2021-08-01T01:43:42.973811Z"
        },
        "id": "german-confidence"
      },
      "outputs": [],
      "source": [
        "# Function to read the text files into one dataframe\n",
        "def readfiles_to_dataframe(directory, category):\n",
        "    arr = os.listdir(directory)\n",
        "    strtext = \".txt\"\n",
        "    for textfile in arr:\n",
        "        if textfile.__contains__(strtext):\n",
        "            fileObject = open(directory + textfile, \"r\")\n",
        "            data = fileObject.read()\n",
        "            ouvert = pd.read_csv('news_df.csv', index_col=\"Unnamed: 0\")\n",
        "            ouvert = ouvert.append({\"Class\": str(category), \"Text\": data},ignore_index=True)\n",
        "            ouvert.to_csv('news_df.csv')\n",
        "\n",
        "# Define categories\n",
        "# paths = [business_path, tech_path, arts_path]\n",
        "# categories = ['business', 'tech', 'arts']\n",
        "\n",
        "\n",
        "# # Call readfile function\n",
        "# for path,category in zip(paths, categories):\n",
        "#     readfiles_to_dataframe(path, category)"
      ]
    },
    {
      "cell_type": "code",
      "execution_count": null,
      "id": "flush-consolidation",
      "metadata": {
        "ExecuteTime": {
          "end_time": "2021-08-01T01:45:56.821008Z",
          "start_time": "2021-08-01T01:45:56.763186Z"
        },
        "id": "flush-consolidation",
        "outputId": "aeb78f7d-d8ad-439c-d32e-237c8ff44d2f",
        "colab": {
          "base_uri": "https://localhost:8080/",
          "height": 224
        }
      },
      "outputs": [
        {
          "output_type": "stream",
          "name": "stdout",
          "text": [
            "(1490, 7)\n"
          ]
        },
        {
          "output_type": "execute_result",
          "data": {
            "text/plain": [
              "   Unnamed: 0  ArticleId                                               Text  \\\n",
              "0           0       1833  worldcom ex-boss launches defence lawyers defe...   \n",
              "1           1        154  german business confidence slides german busin...   \n",
              "2           2       1101  bbc poll indicates economic gloom citizens in ...   \n",
              "3           3       1976  lifestyle  governs mobile choice  faster  bett...   \n",
              "4           4        917  enron bosses in $168m payout eighteen former e...   \n",
              "\n",
              "   Category  News_length                                        Text_parsed  \\\n",
              "0  business         1866  worldcom exboss launches defence lawyers defen...   \n",
              "1  business         2016  german business confidence slides german busin...   \n",
              "2  business         3104  bbc poll indicates economic gloom citizens maj...   \n",
              "3      tech         3618  lifestyle governs mobile choice faster better ...   \n",
              "4  business         2190  enron bosses 168m payout eighteen former enron...   \n",
              "\n",
              "   Category_target  \n",
              "0                0  \n",
              "1                0  \n",
              "2                0  \n",
              "3                4  \n",
              "4                0  "
            ],
            "text/html": [
              "\n",
              "  <div id=\"df-25d844d5-fc4a-481b-a96c-770a6701addc\">\n",
              "    <div class=\"colab-df-container\">\n",
              "      <div>\n",
              "<style scoped>\n",
              "    .dataframe tbody tr th:only-of-type {\n",
              "        vertical-align: middle;\n",
              "    }\n",
              "\n",
              "    .dataframe tbody tr th {\n",
              "        vertical-align: top;\n",
              "    }\n",
              "\n",
              "    .dataframe thead th {\n",
              "        text-align: right;\n",
              "    }\n",
              "</style>\n",
              "<table border=\"1\" class=\"dataframe\">\n",
              "  <thead>\n",
              "    <tr style=\"text-align: right;\">\n",
              "      <th></th>\n",
              "      <th>Unnamed: 0</th>\n",
              "      <th>ArticleId</th>\n",
              "      <th>Text</th>\n",
              "      <th>Category</th>\n",
              "      <th>News_length</th>\n",
              "      <th>Text_parsed</th>\n",
              "      <th>Category_target</th>\n",
              "    </tr>\n",
              "  </thead>\n",
              "  <tbody>\n",
              "    <tr>\n",
              "      <th>0</th>\n",
              "      <td>0</td>\n",
              "      <td>1833</td>\n",
              "      <td>worldcom ex-boss launches defence lawyers defe...</td>\n",
              "      <td>business</td>\n",
              "      <td>1866</td>\n",
              "      <td>worldcom exboss launches defence lawyers defen...</td>\n",
              "      <td>0</td>\n",
              "    </tr>\n",
              "    <tr>\n",
              "      <th>1</th>\n",
              "      <td>1</td>\n",
              "      <td>154</td>\n",
              "      <td>german business confidence slides german busin...</td>\n",
              "      <td>business</td>\n",
              "      <td>2016</td>\n",
              "      <td>german business confidence slides german busin...</td>\n",
              "      <td>0</td>\n",
              "    </tr>\n",
              "    <tr>\n",
              "      <th>2</th>\n",
              "      <td>2</td>\n",
              "      <td>1101</td>\n",
              "      <td>bbc poll indicates economic gloom citizens in ...</td>\n",
              "      <td>business</td>\n",
              "      <td>3104</td>\n",
              "      <td>bbc poll indicates economic gloom citizens maj...</td>\n",
              "      <td>0</td>\n",
              "    </tr>\n",
              "    <tr>\n",
              "      <th>3</th>\n",
              "      <td>3</td>\n",
              "      <td>1976</td>\n",
              "      <td>lifestyle  governs mobile choice  faster  bett...</td>\n",
              "      <td>tech</td>\n",
              "      <td>3618</td>\n",
              "      <td>lifestyle governs mobile choice faster better ...</td>\n",
              "      <td>4</td>\n",
              "    </tr>\n",
              "    <tr>\n",
              "      <th>4</th>\n",
              "      <td>4</td>\n",
              "      <td>917</td>\n",
              "      <td>enron bosses in $168m payout eighteen former e...</td>\n",
              "      <td>business</td>\n",
              "      <td>2190</td>\n",
              "      <td>enron bosses 168m payout eighteen former enron...</td>\n",
              "      <td>0</td>\n",
              "    </tr>\n",
              "  </tbody>\n",
              "</table>\n",
              "</div>\n",
              "      <button class=\"colab-df-convert\" onclick=\"convertToInteractive('df-25d844d5-fc4a-481b-a96c-770a6701addc')\"\n",
              "              title=\"Convert this dataframe to an interactive table.\"\n",
              "              style=\"display:none;\">\n",
              "        \n",
              "  <svg xmlns=\"http://www.w3.org/2000/svg\" height=\"24px\"viewBox=\"0 0 24 24\"\n",
              "       width=\"24px\">\n",
              "    <path d=\"M0 0h24v24H0V0z\" fill=\"none\"/>\n",
              "    <path d=\"M18.56 5.44l.94 2.06.94-2.06 2.06-.94-2.06-.94-.94-2.06-.94 2.06-2.06.94zm-11 1L8.5 8.5l.94-2.06 2.06-.94-2.06-.94L8.5 2.5l-.94 2.06-2.06.94zm10 10l.94 2.06.94-2.06 2.06-.94-2.06-.94-.94-2.06-.94 2.06-2.06.94z\"/><path d=\"M17.41 7.96l-1.37-1.37c-.4-.4-.92-.59-1.43-.59-.52 0-1.04.2-1.43.59L10.3 9.45l-7.72 7.72c-.78.78-.78 2.05 0 2.83L4 21.41c.39.39.9.59 1.41.59.51 0 1.02-.2 1.41-.59l7.78-7.78 2.81-2.81c.8-.78.8-2.07 0-2.86zM5.41 20L4 18.59l7.72-7.72 1.47 1.35L5.41 20z\"/>\n",
              "  </svg>\n",
              "      </button>\n",
              "      \n",
              "  <style>\n",
              "    .colab-df-container {\n",
              "      display:flex;\n",
              "      flex-wrap:wrap;\n",
              "      gap: 12px;\n",
              "    }\n",
              "\n",
              "    .colab-df-convert {\n",
              "      background-color: #E8F0FE;\n",
              "      border: none;\n",
              "      border-radius: 50%;\n",
              "      cursor: pointer;\n",
              "      display: none;\n",
              "      fill: #1967D2;\n",
              "      height: 32px;\n",
              "      padding: 0 0 0 0;\n",
              "      width: 32px;\n",
              "    }\n",
              "\n",
              "    .colab-df-convert:hover {\n",
              "      background-color: #E2EBFA;\n",
              "      box-shadow: 0px 1px 2px rgba(60, 64, 67, 0.3), 0px 1px 3px 1px rgba(60, 64, 67, 0.15);\n",
              "      fill: #174EA6;\n",
              "    }\n",
              "\n",
              "    [theme=dark] .colab-df-convert {\n",
              "      background-color: #3B4455;\n",
              "      fill: #D2E3FC;\n",
              "    }\n",
              "\n",
              "    [theme=dark] .colab-df-convert:hover {\n",
              "      background-color: #434B5C;\n",
              "      box-shadow: 0px 1px 3px 1px rgba(0, 0, 0, 0.15);\n",
              "      filter: drop-shadow(0px 1px 2px rgba(0, 0, 0, 0.3));\n",
              "      fill: #FFFFFF;\n",
              "    }\n",
              "  </style>\n",
              "\n",
              "      <script>\n",
              "        const buttonEl =\n",
              "          document.querySelector('#df-25d844d5-fc4a-481b-a96c-770a6701addc button.colab-df-convert');\n",
              "        buttonEl.style.display =\n",
              "          google.colab.kernel.accessAllowed ? 'block' : 'none';\n",
              "\n",
              "        async function convertToInteractive(key) {\n",
              "          const element = document.querySelector('#df-25d844d5-fc4a-481b-a96c-770a6701addc');\n",
              "          const dataTable =\n",
              "            await google.colab.kernel.invokeFunction('convertToInteractive',\n",
              "                                                     [key], {});\n",
              "          if (!dataTable) return;\n",
              "\n",
              "          const docLinkHtml = 'Like what you see? Visit the ' +\n",
              "            '<a target=\"_blank\" href=https://colab.research.google.com/notebooks/data_table.ipynb>data table notebook</a>'\n",
              "            + ' to learn more about interactive tables.';\n",
              "          element.innerHTML = '';\n",
              "          dataTable['output_type'] = 'display_data';\n",
              "          await google.colab.output.renderOutput(dataTable, element);\n",
              "          const docLink = document.createElement('div');\n",
              "          docLink.innerHTML = docLinkHtml;\n",
              "          element.appendChild(docLink);\n",
              "        }\n",
              "      </script>\n",
              "    </div>\n",
              "  </div>\n",
              "  "
            ]
          },
          "metadata": {},
          "execution_count": 51
        }
      ],
      "source": [
        "full_df = pd.read_csv('subject_class.csv')\n",
        "print(full_df.shape)\n",
        "full_df.head()"
      ]
    },
    {
      "cell_type": "code",
      "execution_count": null,
      "id": "after-prevention",
      "metadata": {
        "ExecuteTime": {
          "end_time": "2021-08-01T01:46:13.096704Z",
          "start_time": "2021-08-01T01:46:13.039953Z"
        },
        "id": "after-prevention",
        "outputId": "04771a4d-f8a2-4385-fa88-d4e1e60f0dc0",
        "colab": {
          "base_uri": "https://localhost:8080/",
          "height": 206
        }
      },
      "outputs": [
        {
          "output_type": "execute_result",
          "data": {
            "text/plain": [
              "   ArticleId                                               Text  Category  \\\n",
              "0       1833  worldcom ex-boss launches defence lawyers defe...  business   \n",
              "1        154  german business confidence slides german busin...  business   \n",
              "2       1101  bbc poll indicates economic gloom citizens in ...  business   \n",
              "3       1976  lifestyle  governs mobile choice  faster  bett...      tech   \n",
              "4        917  enron bosses in $168m payout eighteen former e...  business   \n",
              "\n",
              "   News_length                                        Text_parsed  \\\n",
              "0         1866  worldcom exboss launches defence lawyers defen...   \n",
              "1         2016  german business confidence slides german busin...   \n",
              "2         3104  bbc poll indicates economic gloom citizens maj...   \n",
              "3         3618  lifestyle governs mobile choice faster better ...   \n",
              "4         2190  enron bosses 168m payout eighteen former enron...   \n",
              "\n",
              "   Category_target  \n",
              "0                0  \n",
              "1                0  \n",
              "2                0  \n",
              "3                4  \n",
              "4                0  "
            ],
            "text/html": [
              "\n",
              "  <div id=\"df-36128ef7-0aa5-4ba2-abcc-2f4ae36e04fa\">\n",
              "    <div class=\"colab-df-container\">\n",
              "      <div>\n",
              "<style scoped>\n",
              "    .dataframe tbody tr th:only-of-type {\n",
              "        vertical-align: middle;\n",
              "    }\n",
              "\n",
              "    .dataframe tbody tr th {\n",
              "        vertical-align: top;\n",
              "    }\n",
              "\n",
              "    .dataframe thead th {\n",
              "        text-align: right;\n",
              "    }\n",
              "</style>\n",
              "<table border=\"1\" class=\"dataframe\">\n",
              "  <thead>\n",
              "    <tr style=\"text-align: right;\">\n",
              "      <th></th>\n",
              "      <th>ArticleId</th>\n",
              "      <th>Text</th>\n",
              "      <th>Category</th>\n",
              "      <th>News_length</th>\n",
              "      <th>Text_parsed</th>\n",
              "      <th>Category_target</th>\n",
              "    </tr>\n",
              "  </thead>\n",
              "  <tbody>\n",
              "    <tr>\n",
              "      <th>0</th>\n",
              "      <td>1833</td>\n",
              "      <td>worldcom ex-boss launches defence lawyers defe...</td>\n",
              "      <td>business</td>\n",
              "      <td>1866</td>\n",
              "      <td>worldcom exboss launches defence lawyers defen...</td>\n",
              "      <td>0</td>\n",
              "    </tr>\n",
              "    <tr>\n",
              "      <th>1</th>\n",
              "      <td>154</td>\n",
              "      <td>german business confidence slides german busin...</td>\n",
              "      <td>business</td>\n",
              "      <td>2016</td>\n",
              "      <td>german business confidence slides german busin...</td>\n",
              "      <td>0</td>\n",
              "    </tr>\n",
              "    <tr>\n",
              "      <th>2</th>\n",
              "      <td>1101</td>\n",
              "      <td>bbc poll indicates economic gloom citizens in ...</td>\n",
              "      <td>business</td>\n",
              "      <td>3104</td>\n",
              "      <td>bbc poll indicates economic gloom citizens maj...</td>\n",
              "      <td>0</td>\n",
              "    </tr>\n",
              "    <tr>\n",
              "      <th>3</th>\n",
              "      <td>1976</td>\n",
              "      <td>lifestyle  governs mobile choice  faster  bett...</td>\n",
              "      <td>tech</td>\n",
              "      <td>3618</td>\n",
              "      <td>lifestyle governs mobile choice faster better ...</td>\n",
              "      <td>4</td>\n",
              "    </tr>\n",
              "    <tr>\n",
              "      <th>4</th>\n",
              "      <td>917</td>\n",
              "      <td>enron bosses in $168m payout eighteen former e...</td>\n",
              "      <td>business</td>\n",
              "      <td>2190</td>\n",
              "      <td>enron bosses 168m payout eighteen former enron...</td>\n",
              "      <td>0</td>\n",
              "    </tr>\n",
              "  </tbody>\n",
              "</table>\n",
              "</div>\n",
              "      <button class=\"colab-df-convert\" onclick=\"convertToInteractive('df-36128ef7-0aa5-4ba2-abcc-2f4ae36e04fa')\"\n",
              "              title=\"Convert this dataframe to an interactive table.\"\n",
              "              style=\"display:none;\">\n",
              "        \n",
              "  <svg xmlns=\"http://www.w3.org/2000/svg\" height=\"24px\"viewBox=\"0 0 24 24\"\n",
              "       width=\"24px\">\n",
              "    <path d=\"M0 0h24v24H0V0z\" fill=\"none\"/>\n",
              "    <path d=\"M18.56 5.44l.94 2.06.94-2.06 2.06-.94-2.06-.94-.94-2.06-.94 2.06-2.06.94zm-11 1L8.5 8.5l.94-2.06 2.06-.94-2.06-.94L8.5 2.5l-.94 2.06-2.06.94zm10 10l.94 2.06.94-2.06 2.06-.94-2.06-.94-.94-2.06-.94 2.06-2.06.94z\"/><path d=\"M17.41 7.96l-1.37-1.37c-.4-.4-.92-.59-1.43-.59-.52 0-1.04.2-1.43.59L10.3 9.45l-7.72 7.72c-.78.78-.78 2.05 0 2.83L4 21.41c.39.39.9.59 1.41.59.51 0 1.02-.2 1.41-.59l7.78-7.78 2.81-2.81c.8-.78.8-2.07 0-2.86zM5.41 20L4 18.59l7.72-7.72 1.47 1.35L5.41 20z\"/>\n",
              "  </svg>\n",
              "      </button>\n",
              "      \n",
              "  <style>\n",
              "    .colab-df-container {\n",
              "      display:flex;\n",
              "      flex-wrap:wrap;\n",
              "      gap: 12px;\n",
              "    }\n",
              "\n",
              "    .colab-df-convert {\n",
              "      background-color: #E8F0FE;\n",
              "      border: none;\n",
              "      border-radius: 50%;\n",
              "      cursor: pointer;\n",
              "      display: none;\n",
              "      fill: #1967D2;\n",
              "      height: 32px;\n",
              "      padding: 0 0 0 0;\n",
              "      width: 32px;\n",
              "    }\n",
              "\n",
              "    .colab-df-convert:hover {\n",
              "      background-color: #E2EBFA;\n",
              "      box-shadow: 0px 1px 2px rgba(60, 64, 67, 0.3), 0px 1px 3px 1px rgba(60, 64, 67, 0.15);\n",
              "      fill: #174EA6;\n",
              "    }\n",
              "\n",
              "    [theme=dark] .colab-df-convert {\n",
              "      background-color: #3B4455;\n",
              "      fill: #D2E3FC;\n",
              "    }\n",
              "\n",
              "    [theme=dark] .colab-df-convert:hover {\n",
              "      background-color: #434B5C;\n",
              "      box-shadow: 0px 1px 3px 1px rgba(0, 0, 0, 0.15);\n",
              "      filter: drop-shadow(0px 1px 2px rgba(0, 0, 0, 0.3));\n",
              "      fill: #FFFFFF;\n",
              "    }\n",
              "  </style>\n",
              "\n",
              "      <script>\n",
              "        const buttonEl =\n",
              "          document.querySelector('#df-36128ef7-0aa5-4ba2-abcc-2f4ae36e04fa button.colab-df-convert');\n",
              "        buttonEl.style.display =\n",
              "          google.colab.kernel.accessAllowed ? 'block' : 'none';\n",
              "\n",
              "        async function convertToInteractive(key) {\n",
              "          const element = document.querySelector('#df-36128ef7-0aa5-4ba2-abcc-2f4ae36e04fa');\n",
              "          const dataTable =\n",
              "            await google.colab.kernel.invokeFunction('convertToInteractive',\n",
              "                                                     [key], {});\n",
              "          if (!dataTable) return;\n",
              "\n",
              "          const docLinkHtml = 'Like what you see? Visit the ' +\n",
              "            '<a target=\"_blank\" href=https://colab.research.google.com/notebooks/data_table.ipynb>data table notebook</a>'\n",
              "            + ' to learn more about interactive tables.';\n",
              "          element.innerHTML = '';\n",
              "          dataTable['output_type'] = 'display_data';\n",
              "          await google.colab.output.renderOutput(dataTable, element);\n",
              "          const docLink = document.createElement('div');\n",
              "          docLink.innerHTML = docLinkHtml;\n",
              "          element.appendChild(docLink);\n",
              "        }\n",
              "      </script>\n",
              "    </div>\n",
              "  </div>\n",
              "  "
            ]
          },
          "metadata": {},
          "execution_count": 52
        }
      ],
      "source": [
        "full_df.drop(columns=['Unnamed: 0'], inplace=True)\n",
        "full_df.head()"
      ]
    },
    {
      "cell_type": "code",
      "source": [
        "full_df.drop(columns=['ArticleId'], inplace=True)\n",
        "full_df.head()"
      ],
      "metadata": {
        "colab": {
          "base_uri": "https://localhost:8080/",
          "height": 206
        },
        "id": "VFF6yIhqLgIt",
        "outputId": "724828f4-4e90-48d9-a037-8adaa02d353c"
      },
      "id": "VFF6yIhqLgIt",
      "execution_count": null,
      "outputs": [
        {
          "output_type": "execute_result",
          "data": {
            "text/plain": [
              "                                                Text  Category  News_length  \\\n",
              "0  worldcom ex-boss launches defence lawyers defe...  business         1866   \n",
              "1  german business confidence slides german busin...  business         2016   \n",
              "2  bbc poll indicates economic gloom citizens in ...  business         3104   \n",
              "3  lifestyle  governs mobile choice  faster  bett...      tech         3618   \n",
              "4  enron bosses in $168m payout eighteen former e...  business         2190   \n",
              "\n",
              "                                         Text_parsed  Category_target  \n",
              "0  worldcom exboss launches defence lawyers defen...                0  \n",
              "1  german business confidence slides german busin...                0  \n",
              "2  bbc poll indicates economic gloom citizens maj...                0  \n",
              "3  lifestyle governs mobile choice faster better ...                4  \n",
              "4  enron bosses 168m payout eighteen former enron...                0  "
            ],
            "text/html": [
              "\n",
              "  <div id=\"df-b4beeb0d-cb62-4002-9356-89ad85ff4fdd\">\n",
              "    <div class=\"colab-df-container\">\n",
              "      <div>\n",
              "<style scoped>\n",
              "    .dataframe tbody tr th:only-of-type {\n",
              "        vertical-align: middle;\n",
              "    }\n",
              "\n",
              "    .dataframe tbody tr th {\n",
              "        vertical-align: top;\n",
              "    }\n",
              "\n",
              "    .dataframe thead th {\n",
              "        text-align: right;\n",
              "    }\n",
              "</style>\n",
              "<table border=\"1\" class=\"dataframe\">\n",
              "  <thead>\n",
              "    <tr style=\"text-align: right;\">\n",
              "      <th></th>\n",
              "      <th>Text</th>\n",
              "      <th>Category</th>\n",
              "      <th>News_length</th>\n",
              "      <th>Text_parsed</th>\n",
              "      <th>Category_target</th>\n",
              "    </tr>\n",
              "  </thead>\n",
              "  <tbody>\n",
              "    <tr>\n",
              "      <th>0</th>\n",
              "      <td>worldcom ex-boss launches defence lawyers defe...</td>\n",
              "      <td>business</td>\n",
              "      <td>1866</td>\n",
              "      <td>worldcom exboss launches defence lawyers defen...</td>\n",
              "      <td>0</td>\n",
              "    </tr>\n",
              "    <tr>\n",
              "      <th>1</th>\n",
              "      <td>german business confidence slides german busin...</td>\n",
              "      <td>business</td>\n",
              "      <td>2016</td>\n",
              "      <td>german business confidence slides german busin...</td>\n",
              "      <td>0</td>\n",
              "    </tr>\n",
              "    <tr>\n",
              "      <th>2</th>\n",
              "      <td>bbc poll indicates economic gloom citizens in ...</td>\n",
              "      <td>business</td>\n",
              "      <td>3104</td>\n",
              "      <td>bbc poll indicates economic gloom citizens maj...</td>\n",
              "      <td>0</td>\n",
              "    </tr>\n",
              "    <tr>\n",
              "      <th>3</th>\n",
              "      <td>lifestyle  governs mobile choice  faster  bett...</td>\n",
              "      <td>tech</td>\n",
              "      <td>3618</td>\n",
              "      <td>lifestyle governs mobile choice faster better ...</td>\n",
              "      <td>4</td>\n",
              "    </tr>\n",
              "    <tr>\n",
              "      <th>4</th>\n",
              "      <td>enron bosses in $168m payout eighteen former e...</td>\n",
              "      <td>business</td>\n",
              "      <td>2190</td>\n",
              "      <td>enron bosses 168m payout eighteen former enron...</td>\n",
              "      <td>0</td>\n",
              "    </tr>\n",
              "  </tbody>\n",
              "</table>\n",
              "</div>\n",
              "      <button class=\"colab-df-convert\" onclick=\"convertToInteractive('df-b4beeb0d-cb62-4002-9356-89ad85ff4fdd')\"\n",
              "              title=\"Convert this dataframe to an interactive table.\"\n",
              "              style=\"display:none;\">\n",
              "        \n",
              "  <svg xmlns=\"http://www.w3.org/2000/svg\" height=\"24px\"viewBox=\"0 0 24 24\"\n",
              "       width=\"24px\">\n",
              "    <path d=\"M0 0h24v24H0V0z\" fill=\"none\"/>\n",
              "    <path d=\"M18.56 5.44l.94 2.06.94-2.06 2.06-.94-2.06-.94-.94-2.06-.94 2.06-2.06.94zm-11 1L8.5 8.5l.94-2.06 2.06-.94-2.06-.94L8.5 2.5l-.94 2.06-2.06.94zm10 10l.94 2.06.94-2.06 2.06-.94-2.06-.94-.94-2.06-.94 2.06-2.06.94z\"/><path d=\"M17.41 7.96l-1.37-1.37c-.4-.4-.92-.59-1.43-.59-.52 0-1.04.2-1.43.59L10.3 9.45l-7.72 7.72c-.78.78-.78 2.05 0 2.83L4 21.41c.39.39.9.59 1.41.59.51 0 1.02-.2 1.41-.59l7.78-7.78 2.81-2.81c.8-.78.8-2.07 0-2.86zM5.41 20L4 18.59l7.72-7.72 1.47 1.35L5.41 20z\"/>\n",
              "  </svg>\n",
              "      </button>\n",
              "      \n",
              "  <style>\n",
              "    .colab-df-container {\n",
              "      display:flex;\n",
              "      flex-wrap:wrap;\n",
              "      gap: 12px;\n",
              "    }\n",
              "\n",
              "    .colab-df-convert {\n",
              "      background-color: #E8F0FE;\n",
              "      border: none;\n",
              "      border-radius: 50%;\n",
              "      cursor: pointer;\n",
              "      display: none;\n",
              "      fill: #1967D2;\n",
              "      height: 32px;\n",
              "      padding: 0 0 0 0;\n",
              "      width: 32px;\n",
              "    }\n",
              "\n",
              "    .colab-df-convert:hover {\n",
              "      background-color: #E2EBFA;\n",
              "      box-shadow: 0px 1px 2px rgba(60, 64, 67, 0.3), 0px 1px 3px 1px rgba(60, 64, 67, 0.15);\n",
              "      fill: #174EA6;\n",
              "    }\n",
              "\n",
              "    [theme=dark] .colab-df-convert {\n",
              "      background-color: #3B4455;\n",
              "      fill: #D2E3FC;\n",
              "    }\n",
              "\n",
              "    [theme=dark] .colab-df-convert:hover {\n",
              "      background-color: #434B5C;\n",
              "      box-shadow: 0px 1px 3px 1px rgba(0, 0, 0, 0.15);\n",
              "      filter: drop-shadow(0px 1px 2px rgba(0, 0, 0, 0.3));\n",
              "      fill: #FFFFFF;\n",
              "    }\n",
              "  </style>\n",
              "\n",
              "      <script>\n",
              "        const buttonEl =\n",
              "          document.querySelector('#df-b4beeb0d-cb62-4002-9356-89ad85ff4fdd button.colab-df-convert');\n",
              "        buttonEl.style.display =\n",
              "          google.colab.kernel.accessAllowed ? 'block' : 'none';\n",
              "\n",
              "        async function convertToInteractive(key) {\n",
              "          const element = document.querySelector('#df-b4beeb0d-cb62-4002-9356-89ad85ff4fdd');\n",
              "          const dataTable =\n",
              "            await google.colab.kernel.invokeFunction('convertToInteractive',\n",
              "                                                     [key], {});\n",
              "          if (!dataTable) return;\n",
              "\n",
              "          const docLinkHtml = 'Like what you see? Visit the ' +\n",
              "            '<a target=\"_blank\" href=https://colab.research.google.com/notebooks/data_table.ipynb>data table notebook</a>'\n",
              "            + ' to learn more about interactive tables.';\n",
              "          element.innerHTML = '';\n",
              "          dataTable['output_type'] = 'display_data';\n",
              "          await google.colab.output.renderOutput(dataTable, element);\n",
              "          const docLink = document.createElement('div');\n",
              "          docLink.innerHTML = docLinkHtml;\n",
              "          element.appendChild(docLink);\n",
              "        }\n",
              "      </script>\n",
              "    </div>\n",
              "  </div>\n",
              "  "
            ]
          },
          "metadata": {},
          "execution_count": 53
        }
      ]
    },
    {
      "cell_type": "code",
      "source": [
        "full_df.drop(columns=['News_length'], inplace=True)\n",
        "full_df.head()"
      ],
      "metadata": {
        "colab": {
          "base_uri": "https://localhost:8080/",
          "height": 206
        },
        "id": "J-fRfJCFLsz9",
        "outputId": "2641adc7-ae12-412a-d7cf-d82e004cc058"
      },
      "id": "J-fRfJCFLsz9",
      "execution_count": null,
      "outputs": [
        {
          "output_type": "execute_result",
          "data": {
            "text/plain": [
              "                                                Text  Category  \\\n",
              "0  worldcom ex-boss launches defence lawyers defe...  business   \n",
              "1  german business confidence slides german busin...  business   \n",
              "2  bbc poll indicates economic gloom citizens in ...  business   \n",
              "3  lifestyle  governs mobile choice  faster  bett...      tech   \n",
              "4  enron bosses in $168m payout eighteen former e...  business   \n",
              "\n",
              "                                         Text_parsed  Category_target  \n",
              "0  worldcom exboss launches defence lawyers defen...                0  \n",
              "1  german business confidence slides german busin...                0  \n",
              "2  bbc poll indicates economic gloom citizens maj...                0  \n",
              "3  lifestyle governs mobile choice faster better ...                4  \n",
              "4  enron bosses 168m payout eighteen former enron...                0  "
            ],
            "text/html": [
              "\n",
              "  <div id=\"df-78b0c54f-5ff4-49a5-aa8b-9b39decadd0c\">\n",
              "    <div class=\"colab-df-container\">\n",
              "      <div>\n",
              "<style scoped>\n",
              "    .dataframe tbody tr th:only-of-type {\n",
              "        vertical-align: middle;\n",
              "    }\n",
              "\n",
              "    .dataframe tbody tr th {\n",
              "        vertical-align: top;\n",
              "    }\n",
              "\n",
              "    .dataframe thead th {\n",
              "        text-align: right;\n",
              "    }\n",
              "</style>\n",
              "<table border=\"1\" class=\"dataframe\">\n",
              "  <thead>\n",
              "    <tr style=\"text-align: right;\">\n",
              "      <th></th>\n",
              "      <th>Text</th>\n",
              "      <th>Category</th>\n",
              "      <th>Text_parsed</th>\n",
              "      <th>Category_target</th>\n",
              "    </tr>\n",
              "  </thead>\n",
              "  <tbody>\n",
              "    <tr>\n",
              "      <th>0</th>\n",
              "      <td>worldcom ex-boss launches defence lawyers defe...</td>\n",
              "      <td>business</td>\n",
              "      <td>worldcom exboss launches defence lawyers defen...</td>\n",
              "      <td>0</td>\n",
              "    </tr>\n",
              "    <tr>\n",
              "      <th>1</th>\n",
              "      <td>german business confidence slides german busin...</td>\n",
              "      <td>business</td>\n",
              "      <td>german business confidence slides german busin...</td>\n",
              "      <td>0</td>\n",
              "    </tr>\n",
              "    <tr>\n",
              "      <th>2</th>\n",
              "      <td>bbc poll indicates economic gloom citizens in ...</td>\n",
              "      <td>business</td>\n",
              "      <td>bbc poll indicates economic gloom citizens maj...</td>\n",
              "      <td>0</td>\n",
              "    </tr>\n",
              "    <tr>\n",
              "      <th>3</th>\n",
              "      <td>lifestyle  governs mobile choice  faster  bett...</td>\n",
              "      <td>tech</td>\n",
              "      <td>lifestyle governs mobile choice faster better ...</td>\n",
              "      <td>4</td>\n",
              "    </tr>\n",
              "    <tr>\n",
              "      <th>4</th>\n",
              "      <td>enron bosses in $168m payout eighteen former e...</td>\n",
              "      <td>business</td>\n",
              "      <td>enron bosses 168m payout eighteen former enron...</td>\n",
              "      <td>0</td>\n",
              "    </tr>\n",
              "  </tbody>\n",
              "</table>\n",
              "</div>\n",
              "      <button class=\"colab-df-convert\" onclick=\"convertToInteractive('df-78b0c54f-5ff4-49a5-aa8b-9b39decadd0c')\"\n",
              "              title=\"Convert this dataframe to an interactive table.\"\n",
              "              style=\"display:none;\">\n",
              "        \n",
              "  <svg xmlns=\"http://www.w3.org/2000/svg\" height=\"24px\"viewBox=\"0 0 24 24\"\n",
              "       width=\"24px\">\n",
              "    <path d=\"M0 0h24v24H0V0z\" fill=\"none\"/>\n",
              "    <path d=\"M18.56 5.44l.94 2.06.94-2.06 2.06-.94-2.06-.94-.94-2.06-.94 2.06-2.06.94zm-11 1L8.5 8.5l.94-2.06 2.06-.94-2.06-.94L8.5 2.5l-.94 2.06-2.06.94zm10 10l.94 2.06.94-2.06 2.06-.94-2.06-.94-.94-2.06-.94 2.06-2.06.94z\"/><path d=\"M17.41 7.96l-1.37-1.37c-.4-.4-.92-.59-1.43-.59-.52 0-1.04.2-1.43.59L10.3 9.45l-7.72 7.72c-.78.78-.78 2.05 0 2.83L4 21.41c.39.39.9.59 1.41.59.51 0 1.02-.2 1.41-.59l7.78-7.78 2.81-2.81c.8-.78.8-2.07 0-2.86zM5.41 20L4 18.59l7.72-7.72 1.47 1.35L5.41 20z\"/>\n",
              "  </svg>\n",
              "      </button>\n",
              "      \n",
              "  <style>\n",
              "    .colab-df-container {\n",
              "      display:flex;\n",
              "      flex-wrap:wrap;\n",
              "      gap: 12px;\n",
              "    }\n",
              "\n",
              "    .colab-df-convert {\n",
              "      background-color: #E8F0FE;\n",
              "      border: none;\n",
              "      border-radius: 50%;\n",
              "      cursor: pointer;\n",
              "      display: none;\n",
              "      fill: #1967D2;\n",
              "      height: 32px;\n",
              "      padding: 0 0 0 0;\n",
              "      width: 32px;\n",
              "    }\n",
              "\n",
              "    .colab-df-convert:hover {\n",
              "      background-color: #E2EBFA;\n",
              "      box-shadow: 0px 1px 2px rgba(60, 64, 67, 0.3), 0px 1px 3px 1px rgba(60, 64, 67, 0.15);\n",
              "      fill: #174EA6;\n",
              "    }\n",
              "\n",
              "    [theme=dark] .colab-df-convert {\n",
              "      background-color: #3B4455;\n",
              "      fill: #D2E3FC;\n",
              "    }\n",
              "\n",
              "    [theme=dark] .colab-df-convert:hover {\n",
              "      background-color: #434B5C;\n",
              "      box-shadow: 0px 1px 3px 1px rgba(0, 0, 0, 0.15);\n",
              "      filter: drop-shadow(0px 1px 2px rgba(0, 0, 0, 0.3));\n",
              "      fill: #FFFFFF;\n",
              "    }\n",
              "  </style>\n",
              "\n",
              "      <script>\n",
              "        const buttonEl =\n",
              "          document.querySelector('#df-78b0c54f-5ff4-49a5-aa8b-9b39decadd0c button.colab-df-convert');\n",
              "        buttonEl.style.display =\n",
              "          google.colab.kernel.accessAllowed ? 'block' : 'none';\n",
              "\n",
              "        async function convertToInteractive(key) {\n",
              "          const element = document.querySelector('#df-78b0c54f-5ff4-49a5-aa8b-9b39decadd0c');\n",
              "          const dataTable =\n",
              "            await google.colab.kernel.invokeFunction('convertToInteractive',\n",
              "                                                     [key], {});\n",
              "          if (!dataTable) return;\n",
              "\n",
              "          const docLinkHtml = 'Like what you see? Visit the ' +\n",
              "            '<a target=\"_blank\" href=https://colab.research.google.com/notebooks/data_table.ipynb>data table notebook</a>'\n",
              "            + ' to learn more about interactive tables.';\n",
              "          element.innerHTML = '';\n",
              "          dataTable['output_type'] = 'display_data';\n",
              "          await google.colab.output.renderOutput(dataTable, element);\n",
              "          const docLink = document.createElement('div');\n",
              "          docLink.innerHTML = docLinkHtml;\n",
              "          element.appendChild(docLink);\n",
              "        }\n",
              "      </script>\n",
              "    </div>\n",
              "  </div>\n",
              "  "
            ]
          },
          "metadata": {},
          "execution_count": 54
        }
      ]
    },
    {
      "cell_type": "code",
      "source": [
        "full_df.drop(columns=['Text_parsed'], inplace=True)\n",
        "full_df.head()"
      ],
      "metadata": {
        "colab": {
          "base_uri": "https://localhost:8080/",
          "height": 206
        },
        "id": "0E1JODrfL0YN",
        "outputId": "e9392d95-4718-4ab6-9320-5f953e824a9d"
      },
      "id": "0E1JODrfL0YN",
      "execution_count": null,
      "outputs": [
        {
          "output_type": "execute_result",
          "data": {
            "text/plain": [
              "                                                Text  Category  \\\n",
              "0  worldcom ex-boss launches defence lawyers defe...  business   \n",
              "1  german business confidence slides german busin...  business   \n",
              "2  bbc poll indicates economic gloom citizens in ...  business   \n",
              "3  lifestyle  governs mobile choice  faster  bett...      tech   \n",
              "4  enron bosses in $168m payout eighteen former e...  business   \n",
              "\n",
              "   Category_target  \n",
              "0                0  \n",
              "1                0  \n",
              "2                0  \n",
              "3                4  \n",
              "4                0  "
            ],
            "text/html": [
              "\n",
              "  <div id=\"df-f35290ef-f15e-4ec9-a6cc-55090a002cfd\">\n",
              "    <div class=\"colab-df-container\">\n",
              "      <div>\n",
              "<style scoped>\n",
              "    .dataframe tbody tr th:only-of-type {\n",
              "        vertical-align: middle;\n",
              "    }\n",
              "\n",
              "    .dataframe tbody tr th {\n",
              "        vertical-align: top;\n",
              "    }\n",
              "\n",
              "    .dataframe thead th {\n",
              "        text-align: right;\n",
              "    }\n",
              "</style>\n",
              "<table border=\"1\" class=\"dataframe\">\n",
              "  <thead>\n",
              "    <tr style=\"text-align: right;\">\n",
              "      <th></th>\n",
              "      <th>Text</th>\n",
              "      <th>Category</th>\n",
              "      <th>Category_target</th>\n",
              "    </tr>\n",
              "  </thead>\n",
              "  <tbody>\n",
              "    <tr>\n",
              "      <th>0</th>\n",
              "      <td>worldcom ex-boss launches defence lawyers defe...</td>\n",
              "      <td>business</td>\n",
              "      <td>0</td>\n",
              "    </tr>\n",
              "    <tr>\n",
              "      <th>1</th>\n",
              "      <td>german business confidence slides german busin...</td>\n",
              "      <td>business</td>\n",
              "      <td>0</td>\n",
              "    </tr>\n",
              "    <tr>\n",
              "      <th>2</th>\n",
              "      <td>bbc poll indicates economic gloom citizens in ...</td>\n",
              "      <td>business</td>\n",
              "      <td>0</td>\n",
              "    </tr>\n",
              "    <tr>\n",
              "      <th>3</th>\n",
              "      <td>lifestyle  governs mobile choice  faster  bett...</td>\n",
              "      <td>tech</td>\n",
              "      <td>4</td>\n",
              "    </tr>\n",
              "    <tr>\n",
              "      <th>4</th>\n",
              "      <td>enron bosses in $168m payout eighteen former e...</td>\n",
              "      <td>business</td>\n",
              "      <td>0</td>\n",
              "    </tr>\n",
              "  </tbody>\n",
              "</table>\n",
              "</div>\n",
              "      <button class=\"colab-df-convert\" onclick=\"convertToInteractive('df-f35290ef-f15e-4ec9-a6cc-55090a002cfd')\"\n",
              "              title=\"Convert this dataframe to an interactive table.\"\n",
              "              style=\"display:none;\">\n",
              "        \n",
              "  <svg xmlns=\"http://www.w3.org/2000/svg\" height=\"24px\"viewBox=\"0 0 24 24\"\n",
              "       width=\"24px\">\n",
              "    <path d=\"M0 0h24v24H0V0z\" fill=\"none\"/>\n",
              "    <path d=\"M18.56 5.44l.94 2.06.94-2.06 2.06-.94-2.06-.94-.94-2.06-.94 2.06-2.06.94zm-11 1L8.5 8.5l.94-2.06 2.06-.94-2.06-.94L8.5 2.5l-.94 2.06-2.06.94zm10 10l.94 2.06.94-2.06 2.06-.94-2.06-.94-.94-2.06-.94 2.06-2.06.94z\"/><path d=\"M17.41 7.96l-1.37-1.37c-.4-.4-.92-.59-1.43-.59-.52 0-1.04.2-1.43.59L10.3 9.45l-7.72 7.72c-.78.78-.78 2.05 0 2.83L4 21.41c.39.39.9.59 1.41.59.51 0 1.02-.2 1.41-.59l7.78-7.78 2.81-2.81c.8-.78.8-2.07 0-2.86zM5.41 20L4 18.59l7.72-7.72 1.47 1.35L5.41 20z\"/>\n",
              "  </svg>\n",
              "      </button>\n",
              "      \n",
              "  <style>\n",
              "    .colab-df-container {\n",
              "      display:flex;\n",
              "      flex-wrap:wrap;\n",
              "      gap: 12px;\n",
              "    }\n",
              "\n",
              "    .colab-df-convert {\n",
              "      background-color: #E8F0FE;\n",
              "      border: none;\n",
              "      border-radius: 50%;\n",
              "      cursor: pointer;\n",
              "      display: none;\n",
              "      fill: #1967D2;\n",
              "      height: 32px;\n",
              "      padding: 0 0 0 0;\n",
              "      width: 32px;\n",
              "    }\n",
              "\n",
              "    .colab-df-convert:hover {\n",
              "      background-color: #E2EBFA;\n",
              "      box-shadow: 0px 1px 2px rgba(60, 64, 67, 0.3), 0px 1px 3px 1px rgba(60, 64, 67, 0.15);\n",
              "      fill: #174EA6;\n",
              "    }\n",
              "\n",
              "    [theme=dark] .colab-df-convert {\n",
              "      background-color: #3B4455;\n",
              "      fill: #D2E3FC;\n",
              "    }\n",
              "\n",
              "    [theme=dark] .colab-df-convert:hover {\n",
              "      background-color: #434B5C;\n",
              "      box-shadow: 0px 1px 3px 1px rgba(0, 0, 0, 0.15);\n",
              "      filter: drop-shadow(0px 1px 2px rgba(0, 0, 0, 0.3));\n",
              "      fill: #FFFFFF;\n",
              "    }\n",
              "  </style>\n",
              "\n",
              "      <script>\n",
              "        const buttonEl =\n",
              "          document.querySelector('#df-f35290ef-f15e-4ec9-a6cc-55090a002cfd button.colab-df-convert');\n",
              "        buttonEl.style.display =\n",
              "          google.colab.kernel.accessAllowed ? 'block' : 'none';\n",
              "\n",
              "        async function convertToInteractive(key) {\n",
              "          const element = document.querySelector('#df-f35290ef-f15e-4ec9-a6cc-55090a002cfd');\n",
              "          const dataTable =\n",
              "            await google.colab.kernel.invokeFunction('convertToInteractive',\n",
              "                                                     [key], {});\n",
              "          if (!dataTable) return;\n",
              "\n",
              "          const docLinkHtml = 'Like what you see? Visit the ' +\n",
              "            '<a target=\"_blank\" href=https://colab.research.google.com/notebooks/data_table.ipynb>data table notebook</a>'\n",
              "            + ' to learn more about interactive tables.';\n",
              "          element.innerHTML = '';\n",
              "          dataTable['output_type'] = 'display_data';\n",
              "          await google.colab.output.renderOutput(dataTable, element);\n",
              "          const docLink = document.createElement('div');\n",
              "          docLink.innerHTML = docLinkHtml;\n",
              "          element.appendChild(docLink);\n",
              "        }\n",
              "      </script>\n",
              "    </div>\n",
              "  </div>\n",
              "  "
            ]
          },
          "metadata": {},
          "execution_count": 55
        }
      ]
    },
    {
      "cell_type": "code",
      "source": [
        "full_df.drop(columns=['Category_target'], inplace=True)\n",
        "full_df.head()"
      ],
      "metadata": {
        "colab": {
          "base_uri": "https://localhost:8080/",
          "height": 206
        },
        "id": "y4kB2ApbL7NV",
        "outputId": "6e018d11-9693-48d3-8a76-18ac128d6d0c"
      },
      "id": "y4kB2ApbL7NV",
      "execution_count": null,
      "outputs": [
        {
          "output_type": "execute_result",
          "data": {
            "text/plain": [
              "                                                Text  Category\n",
              "0  worldcom ex-boss launches defence lawyers defe...  business\n",
              "1  german business confidence slides german busin...  business\n",
              "2  bbc poll indicates economic gloom citizens in ...  business\n",
              "3  lifestyle  governs mobile choice  faster  bett...      tech\n",
              "4  enron bosses in $168m payout eighteen former e...  business"
            ],
            "text/html": [
              "\n",
              "  <div id=\"df-b95b9d66-b625-4163-a26e-b28e6d839c32\">\n",
              "    <div class=\"colab-df-container\">\n",
              "      <div>\n",
              "<style scoped>\n",
              "    .dataframe tbody tr th:only-of-type {\n",
              "        vertical-align: middle;\n",
              "    }\n",
              "\n",
              "    .dataframe tbody tr th {\n",
              "        vertical-align: top;\n",
              "    }\n",
              "\n",
              "    .dataframe thead th {\n",
              "        text-align: right;\n",
              "    }\n",
              "</style>\n",
              "<table border=\"1\" class=\"dataframe\">\n",
              "  <thead>\n",
              "    <tr style=\"text-align: right;\">\n",
              "      <th></th>\n",
              "      <th>Text</th>\n",
              "      <th>Category</th>\n",
              "    </tr>\n",
              "  </thead>\n",
              "  <tbody>\n",
              "    <tr>\n",
              "      <th>0</th>\n",
              "      <td>worldcom ex-boss launches defence lawyers defe...</td>\n",
              "      <td>business</td>\n",
              "    </tr>\n",
              "    <tr>\n",
              "      <th>1</th>\n",
              "      <td>german business confidence slides german busin...</td>\n",
              "      <td>business</td>\n",
              "    </tr>\n",
              "    <tr>\n",
              "      <th>2</th>\n",
              "      <td>bbc poll indicates economic gloom citizens in ...</td>\n",
              "      <td>business</td>\n",
              "    </tr>\n",
              "    <tr>\n",
              "      <th>3</th>\n",
              "      <td>lifestyle  governs mobile choice  faster  bett...</td>\n",
              "      <td>tech</td>\n",
              "    </tr>\n",
              "    <tr>\n",
              "      <th>4</th>\n",
              "      <td>enron bosses in $168m payout eighteen former e...</td>\n",
              "      <td>business</td>\n",
              "    </tr>\n",
              "  </tbody>\n",
              "</table>\n",
              "</div>\n",
              "      <button class=\"colab-df-convert\" onclick=\"convertToInteractive('df-b95b9d66-b625-4163-a26e-b28e6d839c32')\"\n",
              "              title=\"Convert this dataframe to an interactive table.\"\n",
              "              style=\"display:none;\">\n",
              "        \n",
              "  <svg xmlns=\"http://www.w3.org/2000/svg\" height=\"24px\"viewBox=\"0 0 24 24\"\n",
              "       width=\"24px\">\n",
              "    <path d=\"M0 0h24v24H0V0z\" fill=\"none\"/>\n",
              "    <path d=\"M18.56 5.44l.94 2.06.94-2.06 2.06-.94-2.06-.94-.94-2.06-.94 2.06-2.06.94zm-11 1L8.5 8.5l.94-2.06 2.06-.94-2.06-.94L8.5 2.5l-.94 2.06-2.06.94zm10 10l.94 2.06.94-2.06 2.06-.94-2.06-.94-.94-2.06-.94 2.06-2.06.94z\"/><path d=\"M17.41 7.96l-1.37-1.37c-.4-.4-.92-.59-1.43-.59-.52 0-1.04.2-1.43.59L10.3 9.45l-7.72 7.72c-.78.78-.78 2.05 0 2.83L4 21.41c.39.39.9.59 1.41.59.51 0 1.02-.2 1.41-.59l7.78-7.78 2.81-2.81c.8-.78.8-2.07 0-2.86zM5.41 20L4 18.59l7.72-7.72 1.47 1.35L5.41 20z\"/>\n",
              "  </svg>\n",
              "      </button>\n",
              "      \n",
              "  <style>\n",
              "    .colab-df-container {\n",
              "      display:flex;\n",
              "      flex-wrap:wrap;\n",
              "      gap: 12px;\n",
              "    }\n",
              "\n",
              "    .colab-df-convert {\n",
              "      background-color: #E8F0FE;\n",
              "      border: none;\n",
              "      border-radius: 50%;\n",
              "      cursor: pointer;\n",
              "      display: none;\n",
              "      fill: #1967D2;\n",
              "      height: 32px;\n",
              "      padding: 0 0 0 0;\n",
              "      width: 32px;\n",
              "    }\n",
              "\n",
              "    .colab-df-convert:hover {\n",
              "      background-color: #E2EBFA;\n",
              "      box-shadow: 0px 1px 2px rgba(60, 64, 67, 0.3), 0px 1px 3px 1px rgba(60, 64, 67, 0.15);\n",
              "      fill: #174EA6;\n",
              "    }\n",
              "\n",
              "    [theme=dark] .colab-df-convert {\n",
              "      background-color: #3B4455;\n",
              "      fill: #D2E3FC;\n",
              "    }\n",
              "\n",
              "    [theme=dark] .colab-df-convert:hover {\n",
              "      background-color: #434B5C;\n",
              "      box-shadow: 0px 1px 3px 1px rgba(0, 0, 0, 0.15);\n",
              "      filter: drop-shadow(0px 1px 2px rgba(0, 0, 0, 0.3));\n",
              "      fill: #FFFFFF;\n",
              "    }\n",
              "  </style>\n",
              "\n",
              "      <script>\n",
              "        const buttonEl =\n",
              "          document.querySelector('#df-b95b9d66-b625-4163-a26e-b28e6d839c32 button.colab-df-convert');\n",
              "        buttonEl.style.display =\n",
              "          google.colab.kernel.accessAllowed ? 'block' : 'none';\n",
              "\n",
              "        async function convertToInteractive(key) {\n",
              "          const element = document.querySelector('#df-b95b9d66-b625-4163-a26e-b28e6d839c32');\n",
              "          const dataTable =\n",
              "            await google.colab.kernel.invokeFunction('convertToInteractive',\n",
              "                                                     [key], {});\n",
              "          if (!dataTable) return;\n",
              "\n",
              "          const docLinkHtml = 'Like what you see? Visit the ' +\n",
              "            '<a target=\"_blank\" href=https://colab.research.google.com/notebooks/data_table.ipynb>data table notebook</a>'\n",
              "            + ' to learn more about interactive tables.';\n",
              "          element.innerHTML = '';\n",
              "          dataTable['output_type'] = 'display_data';\n",
              "          await google.colab.output.renderOutput(dataTable, element);\n",
              "          const docLink = document.createElement('div');\n",
              "          docLink.innerHTML = docLinkHtml;\n",
              "          element.appendChild(docLink);\n",
              "        }\n",
              "      </script>\n",
              "    </div>\n",
              "  </div>\n",
              "  "
            ]
          },
          "metadata": {},
          "execution_count": 56
        }
      ]
    },
    {
      "cell_type": "markdown",
      "id": "nonprofit-syndication",
      "metadata": {
        "id": "nonprofit-syndication"
      },
      "source": [
        "## 1. Dataset Exploration"
      ]
    },
    {
      "cell_type": "code",
      "execution_count": null,
      "id": "great-nightlife",
      "metadata": {
        "ExecuteTime": {
          "end_time": "2021-08-01T02:02:06.282040Z",
          "start_time": "2021-08-01T02:02:06.032043Z"
        },
        "id": "great-nightlife",
        "outputId": "2c60f422-9899-43e5-a263-b4e9c22e9e52",
        "colab": {
          "base_uri": "https://localhost:8080/",
          "height": 565
        }
      },
      "outputs": [
        {
          "output_type": "display_data",
          "data": {
            "text/plain": [
              "<Figure size 640x480 with 1 Axes>"
            ],
            "image/png": "[encoded data removed]"
          },
          "metadata": {
            "image/png": {
              "width": 570,
              "height": 548
            }
          }
        }
      ],
      "source": [
        "full_df['Category'].value_counts().plot(kind='bar')\n",
        "plt.title('Number of News articles per Category', size=20, pad=20);"
      ]
    },
    {
      "cell_type": "code",
      "execution_count": null,
      "id": "subsequent-hometown",
      "metadata": {
        "ExecuteTime": {
          "end_time": "2021-08-01T02:02:39.543408Z",
          "start_time": "2021-08-01T02:02:39.514242Z"
        },
        "id": "subsequent-hometown",
        "outputId": "f8fd28d4-9a6a-4d1d-c269-05f52d05a1f0",
        "colab": {
          "base_uri": "https://localhost:8080/"
        }
      },
      "outputs": [
        {
          "output_type": "execute_result",
          "data": {
            "text/plain": [
              "Text        0\n",
              "Category    0\n",
              "dtype: int64"
            ]
          },
          "metadata": {},
          "execution_count": 60
        }
      ],
      "source": [
        "# Check for missing values\n",
        "full_df.isna().sum()"
      ]
    },
    {
      "cell_type": "markdown",
      "id": "naughty-samba",
      "metadata": {
        "id": "naughty-samba"
      },
      "source": [
        "## 2. Text Preprocessing\n",
        "\n",
        "Here, unwanted parts of the text are removed such as special characters."
      ]
    },
    {
      "cell_type": "code",
      "execution_count": null,
      "id": "major-springer",
      "metadata": {
        "ExecuteTime": {
          "end_time": "2021-08-01T02:05:41.825096Z",
          "start_time": "2021-08-01T02:05:41.787802Z"
        },
        "id": "major-springer"
      },
      "outputs": [],
      "source": [
        "def preprocess(df):\n",
        "    # Remove special characters\n",
        "    df['Text2'] = df['Text'].replace('\\n',' ')\n",
        "    df['Text2'] = df['Text2'].replace('\\r',' ')\n",
        "\n",
        "    # Remove punctuation signs and lowercase all\n",
        "    df['Text2'] = df['Text2'].str.lower()\n",
        "    df['Text2'] = df['Text2'].str.translate(str.maketrans('', '', string.punctuation))\n",
        "\n",
        "\n",
        "    # Remove stop words\n",
        "    stop_words = stopwords.words(\"english\")\n",
        "    lemmatizer = WordNetLemmatizer()\n",
        "\n",
        "    def fwpt(each):\n",
        "        tag = pos_tag([each])[0][1][0].upper()\n",
        "        hash_tag = {\"N\": wordnet.NOUN,\"R\": wordnet.ADV, \"V\": wordnet.VERB,\"J\": wordnet.ADJ}\n",
        "        return hash_tag.get(tag, wordnet.NOUN)\n",
        "\n",
        "\n",
        "    def lematize(text):\n",
        "        tokens = nltk.word_tokenize(text)\n",
        "        ax = \"\"\n",
        "        for each in tokens:\n",
        "            if each not in stop_words:\n",
        "                ax += lemmatizer.lemmatize(each, fwpt(each)) + \" \"\n",
        "        return ax\n",
        "\n",
        "    df['Text2'] = df['Text2'].apply(lematize)"
      ]
    },
    {
      "cell_type": "code",
      "source": [
        "import nltk\n",
        "nltk.download('punkt')\n",
        "nltk.download('wordnet')"
      ],
      "metadata": {
        "colab": {
          "base_uri": "https://localhost:8080/"
        },
        "id": "O49RwIWQqt3G",
        "outputId": "b32f40fa-b1fe-44d3-9f19-303df5a3fc25"
      },
      "id": "O49RwIWQqt3G",
      "execution_count": null,
      "outputs": [
        {
          "output_type": "stream",
          "name": "stderr",
          "text": [
            "[nltk_data] Downloading package punkt to /root/nltk_data...\n",
            "[nltk_data]   Package punkt is already up-to-date!\n",
            "[nltk_data] Downloading package wordnet to /root/nltk_data...\n",
            "[nltk_data]   Package wordnet is already up-to-date!\n"
          ]
        },
        {
          "output_type": "execute_result",
          "data": {
            "text/plain": [
              "True"
            ]
          },
          "metadata": {},
          "execution_count": 62
        }
      ]
    },
    {
      "cell_type": "code",
      "execution_count": null,
      "id": "subtle-floating",
      "metadata": {
        "ExecuteTime": {
          "end_time": "2021-08-01T02:08:25.551690Z",
          "start_time": "2021-08-01T02:07:24.370175Z"
        },
        "id": "subtle-floating"
      },
      "outputs": [],
      "source": [
        "preprocess(full_df)"
      ]
    },
    {
      "cell_type": "markdown",
      "id": "opposite-baltimore",
      "metadata": {
        "id": "opposite-baltimore"
      },
      "source": [
        "### Demonstration of Preprocessing\n",
        "\n",
        "**Original:**"
      ]
    },
    {
      "cell_type": "code",
      "execution_count": null,
      "id": "informal-disease",
      "metadata": {
        "ExecuteTime": {
          "end_time": "2021-08-01T02:09:19.409252Z",
          "start_time": "2021-08-01T02:09:19.402659Z"
        },
        "id": "informal-disease",
        "outputId": "6c4605b4-e1ef-484b-cda5-808a5074575a",
        "colab": {
          "base_uri": "https://localhost:8080/",
          "height": 105
        }
      },
      "outputs": [
        {
          "output_type": "execute_result",
          "data": {
            "text/plain": [
              "'german business confidence slides german business confidence fell in february knocking hopes of a speedy recovery in europe s largest economy.  munich-based research institute ifo said that its confidence index fell to 95.5 in february from 97.5 in january  its first decline in three months. the study found that the outlook in both the manufacturing and retail sectors had worsened. observers had been hoping that a more confident business sector would signal that economic activity was picking up.   we re surprised that the ifo index has taken such a knock   said dz bank economist bernd weidensteiner.  the main reason is probably that the domestic economy is still weak  particularly in the retail trade.  economy and labour minister wolfgang clement called the dip in february s ifo confidence figure  a very mild decline . he said that despite the retreat  the index remained at a relatively high level and that he expected  a modest economic upswing  to continue.  germany s economy grew 1.6% last year after shrinking in 2003. however  the economy contracted by 0.2% during the last three months of 2004  mainly due to the reluctance of consumers to spend. latest indications are that growth is still proving elusive and ifo president hans-werner sinn said any improvement in german domestic demand was sluggish. exports had kept things going during the first half of 2004  but demand for exports was then hit as the value of the euro hit record levels making german products less competitive overseas. on top of that  the unemployment rate has been stuck at close to 10% and manufacturing firms  including daimlerchrysler  siemens and volkswagen  have been negotiating with unions over cost cutting measures. analysts said that the ifo figures and germany s continuing problems may delay an interest rate rise by the european central bank. eurozone interest rates are at 2%  but comments from senior officials have recently focused on the threat of inflation  prompting fears that interest rates may rise.'"
            ],
            "application/vnd.google.colaboratory.intrinsic+json": {
              "type": "string"
            }
          },
          "metadata": {},
          "execution_count": 64
        }
      ],
      "source": [
        "full_df.iloc[1]['Text']"
      ]
    },
    {
      "cell_type": "markdown",
      "id": "continent-teddy",
      "metadata": {
        "id": "continent-teddy"
      },
      "source": [
        "**Processed:**"
      ]
    },
    {
      "cell_type": "code",
      "execution_count": null,
      "id": "incoming-chemical",
      "metadata": {
        "ExecuteTime": {
          "end_time": "2021-08-01T02:10:20.041432Z",
          "start_time": "2021-08-01T02:10:20.031098Z"
        },
        "id": "incoming-chemical",
        "outputId": "7d7858f2-14d1-447e-bd8f-66e3fb9ea33f",
        "colab": {
          "base_uri": "https://localhost:8080/",
          "height": 105
        }
      },
      "outputs": [
        {
          "output_type": "execute_result",
          "data": {
            "text/plain": [
              "'german business confidence slide german business confidence fell february knock hope speedy recovery europe large economy munichbased research institute ifo say confidence index fell 955 february 975 january first decline three month study found outlook manufacturing retail sector worsen observer hop confident business sector would signal economic activity pick surprised ifo index take knock say dz bank economist bernd weidensteiner main reason probably domestic economy still weak particularly retail trade economy labour minister wolfgang clement call dip february ifo confidence figure mild decline say despite retreat index remain relatively high level expect modest economic upswing continue germany economy grow 16 last year shrink 2003 however economy contract 02 last three month 2004 mainly due reluctance consumer spend late indication growth still prove elusive ifo president hanswerner sinn say improvement german domestic demand sluggish export kept thing go first half 2004 demand export hit value euro hit record level make german product less competitive overseas top unemployment rate stuck close 10 manufacturing firm include daimlerchrysler siemens volkswagen negotiate union cost cut measure analyst say ifo figure germany continue problem may delay interest rate rise european central bank eurozone interest rate 2 comment senior official recently focus threat inflation prompt fear interest rate may rise '"
            ],
            "application/vnd.google.colaboratory.intrinsic+json": {
              "type": "string"
            }
          },
          "metadata": {},
          "execution_count": 65
        }
      ],
      "source": [
        "full_df.iloc[1]['Text2']"
      ]
    },
    {
      "cell_type": "markdown",
      "id": "rolled-chancellor",
      "metadata": {
        "id": "rolled-chancellor"
      },
      "source": [
        "## 3. Train Test Split"
      ]
    },
    {
      "cell_type": "code",
      "execution_count": null,
      "id": "miniature-crime",
      "metadata": {
        "ExecuteTime": {
          "end_time": "2021-08-01T02:19:53.776543Z",
          "start_time": "2021-08-01T02:19:53.695104Z"
        },
        "id": "miniature-crime"
      },
      "outputs": [],
      "source": [
        "X_train, X_test, y_train, y_test = train_test_split(full_df['Text2'],\n",
        "                                                    full_df['Category'],\n",
        "                                                    test_size=0.2,\n",
        "                                                    random_state=9)"
      ]
    },
    {
      "cell_type": "markdown",
      "id": "conceptual-specification",
      "metadata": {
        "id": "conceptual-specification"
      },
      "source": [
        "#### Check for acceptable category balance"
      ]
    },
    {
      "cell_type": "code",
      "execution_count": null,
      "id": "modular-discount",
      "metadata": {
        "ExecuteTime": {
          "end_time": "2021-08-01T02:23:04.756438Z",
          "start_time": "2021-08-01T02:23:04.493698Z"
        },
        "id": "modular-discount",
        "outputId": "9bcea813-638d-4b65-8072-293bc135db6f",
        "colab": {
          "base_uri": "https://localhost:8080/",
          "height": 565
        }
      },
      "outputs": [
        {
          "output_type": "display_data",
          "data": {
            "text/plain": [
              "<Figure size 640x480 with 1 Axes>"
            ],
            "image/png": "[encoded data removed]"
          },
          "metadata": {
            "image/png": {
              "width": 552,
              "height": 548
            }
          }
        }
      ],
      "source": [
        "y_train.value_counts().plot(kind='bar')\n",
        "plt.title('Category Balance', size=20, pad=20);"
      ]
    },
    {
      "cell_type": "code",
      "execution_count": null,
      "id": "structural-timeline",
      "metadata": {
        "ExecuteTime": {
          "end_time": "2021-08-01T02:23:54.357909Z",
          "start_time": "2021-08-01T02:23:54.341711Z"
        },
        "id": "structural-timeline",
        "outputId": "fe90cb04-29ee-4e55-ada9-385247e8d5ca",
        "colab": {
          "base_uri": "https://localhost:8080/"
        }
      },
      "outputs": [
        {
          "output_type": "stream",
          "name": "stdout",
          "text": [
            "(1192,) (298,) (1192,) (298,)\n"
          ]
        }
      ],
      "source": [
        "print(X_train.shape, X_test.shape, y_train.shape, y_test.shape)"
      ]
    },
    {
      "cell_type": "markdown",
      "id": "theoretical-payment",
      "metadata": {
        "id": "theoretical-payment"
      },
      "source": [
        "## 4.  Vectorize"
      ]
    },
    {
      "cell_type": "code",
      "execution_count": null,
      "id": "present-company",
      "metadata": {
        "ExecuteTime": {
          "end_time": "2021-08-01T02:24:58.293184Z",
          "start_time": "2021-08-01T02:24:58.262149Z"
        },
        "id": "present-company"
      },
      "outputs": [],
      "source": [
        "vector = TfidfVectorizer(stop_words='english',\n",
        "                         ngram_range = (1,2),\n",
        "                         min_df = 3,\n",
        "                         max_df = 1.,\n",
        "                         max_features = 10000)"
      ]
    },
    {
      "cell_type": "markdown",
      "id": "progressive-detroit",
      "metadata": {
        "id": "progressive-detroit"
      },
      "source": [
        "## 5.  Construct Model"
      ]
    },
    {
      "cell_type": "code",
      "execution_count": null,
      "id": "natural-louis",
      "metadata": {
        "ExecuteTime": {
          "end_time": "2021-08-01T02:30:47.223623Z",
          "start_time": "2021-08-01T02:30:47.193232Z"
        },
        "id": "natural-louis"
      },
      "outputs": [],
      "source": [
        "def fit_model(model, model_name):\n",
        "    line = Pipeline([('vectorize', vector), (model_name, model)])\n",
        "\n",
        "    output = cross_validate(line,\n",
        "                            X_train,\n",
        "                            y_train,\n",
        "                            cv = KFold(shuffle = True,\n",
        "                                       n_splits = 3,\n",
        "                                       random_state = 9),\n",
        "                            scoring = ('accuracy', 'f1_weighted','precision_weighted','recall_weighted'),\n",
        "                            return_train_score=True)\n",
        "    return output"
      ]
    },
    {
      "cell_type": "code",
      "execution_count": null,
      "id": "reasonable-inspector",
      "metadata": {
        "ExecuteTime": {
          "end_time": "2021-08-01T02:31:41.443274Z",
          "start_time": "2021-08-01T02:31:29.795635Z"
        },
        "id": "reasonable-inspector"
      },
      "outputs": [],
      "source": [
        "dectree = fit_model(DecisionTreeClassifier(), 'DTree')\n",
        "ridge = fit_model(RidgeClassifier(), 'Ridge')\n",
        "bayes = fit_model(MultinomialNB(), 'NB')\n",
        "\n",
        "dt = pd.DataFrame.from_dict(dectree)\n",
        "rc = pd.DataFrame.from_dict(ridge)\n",
        "bc = pd.DataFrame.from_dict(bayes)"
      ]
    },
    {
      "cell_type": "code",
      "execution_count": null,
      "id": "compressed-contractor",
      "metadata": {
        "ExecuteTime": {
          "end_time": "2021-08-01T02:32:19.672291Z",
          "start_time": "2021-08-01T02:32:19.642518Z"
        },
        "id": "compressed-contractor"
      },
      "outputs": [],
      "source": [
        "l1 = [bc, rc, dt]\n",
        "l2 =[\"NB\", \"Ridge\", \"DT\"]\n",
        "\n",
        "for each, tag in zip(l1, l2):\n",
        "    each['model'] = [tag, tag, tag]\n",
        "\n",
        "joined_output = pd.concat([bc,rc,dt])"
      ]
    },
    {
      "cell_type": "code",
      "execution_count": null,
      "id": "automatic-device",
      "metadata": {
        "ExecuteTime": {
          "end_time": "2021-08-01T02:33:12.025271Z",
          "start_time": "2021-08-01T02:33:12.016908Z"
        },
        "id": "automatic-device",
        "outputId": "bf60c919-f363-4de4-86d3-0050dc1986fc",
        "colab": {
          "base_uri": "https://localhost:8080/"
        }
      },
      "outputs": [
        {
          "output_type": "execute_result",
          "data": {
            "text/plain": [
              "{'fit_time': array([1.42030883, 0.99307752, 0.92109227]),\n",
              " 'score_time': array([0.29142141, 0.14311123, 0.14781284]),\n",
              " 'test_accuracy': array([0.7839196 , 0.79596977, 0.78085642]),\n",
              " 'train_accuracy': array([1., 1., 1.]),\n",
              " 'test_f1_weighted': array([0.78325464, 0.7957892 , 0.78068533]),\n",
              " 'train_f1_weighted': array([1., 1., 1.]),\n",
              " 'test_precision_weighted': array([0.78479955, 0.8042556 , 0.78071142]),\n",
              " 'train_precision_weighted': array([1., 1., 1.]),\n",
              " 'test_recall_weighted': array([0.7839196 , 0.79596977, 0.78085642]),\n",
              " 'train_recall_weighted': array([1., 1., 1.])}"
            ]
          },
          "metadata": {},
          "execution_count": 78
        }
      ],
      "source": [
        "dectree"
      ]
    },
    {
      "cell_type": "code",
      "execution_count": null,
      "id": "worth-marijuana",
      "metadata": {
        "ExecuteTime": {
          "end_time": "2021-08-01T02:33:21.177196Z",
          "start_time": "2021-08-01T02:33:21.168888Z"
        },
        "id": "worth-marijuana",
        "outputId": "6c2d2ffb-6060-4c50-f2ba-81a285e41590",
        "colab": {
          "base_uri": "https://localhost:8080/"
        }
      },
      "outputs": [
        {
          "output_type": "execute_result",
          "data": {
            "text/plain": [
              "{'fit_time': array([0.79772663, 0.78642988, 0.75445127]),\n",
              " 'score_time': array([0.21510792, 0.19862771, 0.20438766]),\n",
              " 'test_accuracy': array([0.97487437, 0.96725441, 0.97984887]),\n",
              " 'train_accuracy': array([1., 1., 1.]),\n",
              " 'test_f1_weighted': array([0.97479668, 0.9671171 , 0.97982769]),\n",
              " 'train_f1_weighted': array([1., 1., 1.]),\n",
              " 'test_precision_weighted': array([0.97496281, 0.96755714, 0.97995849]),\n",
              " 'train_precision_weighted': array([1., 1., 1.]),\n",
              " 'test_recall_weighted': array([0.97487437, 0.96725441, 0.97984887]),\n",
              " 'train_recall_weighted': array([1., 1., 1.])}"
            ]
          },
          "metadata": {},
          "execution_count": 79
        }
      ],
      "source": [
        "ridge"
      ]
    },
    {
      "cell_type": "code",
      "execution_count": null,
      "id": "cleared-romania",
      "metadata": {
        "ExecuteTime": {
          "end_time": "2021-08-01T02:33:33.009773Z",
          "start_time": "2021-08-01T02:33:33.001230Z"
        },
        "id": "cleared-romania",
        "outputId": "19adfc82-1786-4aa2-9076-bc9a497f2d61",
        "colab": {
          "base_uri": "https://localhost:8080/"
        }
      },
      "outputs": [
        {
          "output_type": "execute_result",
          "data": {
            "text/plain": [
              "{'fit_time': array([0.70424414, 0.7277956 , 0.71391845]),\n",
              " 'score_time': array([0.15133119, 0.14704728, 0.14641047]),\n",
              " 'test_accuracy': array([0.96231156, 0.94962217, 0.97732997]),\n",
              " 'train_accuracy': array([0.99244332, 0.98993711, 0.99245283]),\n",
              " 'test_f1_weighted': array([0.96222824, 0.94905837, 0.9774422 ]),\n",
              " 'train_f1_weighted': array([0.99244144, 0.98991807, 0.99243943]),\n",
              " 'test_precision_weighted': array([0.96337932, 0.95182171, 0.97793337]),\n",
              " 'train_precision_weighted': array([0.99245494, 0.99011854, 0.99244236]),\n",
              " 'test_recall_weighted': array([0.96231156, 0.94962217, 0.97732997]),\n",
              " 'train_recall_weighted': array([0.99244332, 0.98993711, 0.99245283])}"
            ]
          },
          "metadata": {},
          "execution_count": 80
        }
      ],
      "source": [
        "bayes"
      ]
    },
    {
      "cell_type": "code",
      "execution_count": null,
      "id": "elect-trail",
      "metadata": {
        "ExecuteTime": {
          "end_time": "2021-08-01T02:34:09.787789Z",
          "start_time": "2021-08-01T02:34:09.744308Z"
        },
        "id": "elect-trail"
      },
      "outputs": [],
      "source": [
        "relevant_measures = list(['test_accuracy','test_precision_weighted', 'test_recall_weighted', 'test_f1_weighted'])\n",
        "\n",
        "dec_tree_metrics = joined_output.loc[joined_output.model == 'DT'][relevant_measures]\n",
        "nb_metrics = joined_output.loc[joined_output.model == 'NB'][relevant_measures]\n",
        "r_metrics = joined_output.loc[joined_output.model == 'Ridge'][relevant_measures]"
      ]
    },
    {
      "cell_type": "markdown",
      "id": "entitled-pharmacy",
      "metadata": {
        "id": "entitled-pharmacy"
      },
      "source": [
        "#### Decision Tree metrics"
      ]
    },
    {
      "cell_type": "code",
      "execution_count": null,
      "id": "proud-movement",
      "metadata": {
        "ExecuteTime": {
          "end_time": "2021-08-01T02:34:45.966238Z",
          "start_time": "2021-08-01T02:34:45.956440Z"
        },
        "id": "proud-movement",
        "outputId": "5c719762-f836-473f-eb67-0ded69beeb3e",
        "colab": {
          "base_uri": "https://localhost:8080/",
          "height": 143
        }
      },
      "outputs": [
        {
          "output_type": "execute_result",
          "data": {
            "text/plain": [
              "   test_accuracy  test_precision_weighted  test_recall_weighted  \\\n",
              "0       0.783920                 0.784800              0.783920   \n",
              "1       0.795970                 0.804256              0.795970   \n",
              "2       0.780856                 0.780711              0.780856   \n",
              "\n",
              "   test_f1_weighted  \n",
              "0          0.783255  \n",
              "1          0.795789  \n",
              "2          0.780685  "
            ],
            "text/html": [
              "\n",
              "  <div id=\"df-7ece265e-4f1e-4be0-849a-6e81fcfafc08\">\n",
              "    <div class=\"colab-df-container\">\n",
              "      <div>\n",
              "<style scoped>\n",
              "    .dataframe tbody tr th:only-of-type {\n",
              "        vertical-align: middle;\n",
              "    }\n",
              "\n",
              "    .dataframe tbody tr th {\n",
              "        vertical-align: top;\n",
              "    }\n",
              "\n",
              "    .dataframe thead th {\n",
              "        text-align: right;\n",
              "    }\n",
              "</style>\n",
              "<table border=\"1\" class=\"dataframe\">\n",
              "  <thead>\n",
              "    <tr style=\"text-align: right;\">\n",
              "      <th></th>\n",
              "      <th>test_accuracy</th>\n",
              "      <th>test_precision_weighted</th>\n",
              "      <th>test_recall_weighted</th>\n",
              "      <th>test_f1_weighted</th>\n",
              "    </tr>\n",
              "  </thead>\n",
              "  <tbody>\n",
              "    <tr>\n",
              "      <th>0</th>\n",
              "      <td>0.783920</td>\n",
              "      <td>0.784800</td>\n",
              "      <td>0.783920</td>\n",
              "      <td>0.783255</td>\n",
              "    </tr>\n",
              "    <tr>\n",
              "      <th>1</th>\n",
              "      <td>0.795970</td>\n",
              "      <td>0.804256</td>\n",
              "      <td>0.795970</td>\n",
              "      <td>0.795789</td>\n",
              "    </tr>\n",
              "    <tr>\n",
              "      <th>2</th>\n",
              "      <td>0.780856</td>\n",
              "      <td>0.780711</td>\n",
              "      <td>0.780856</td>\n",
              "      <td>0.780685</td>\n",
              "    </tr>\n",
              "  </tbody>\n",
              "</table>\n",
              "</div>\n",
              "      <button class=\"colab-df-convert\" onclick=\"convertToInteractive('df-7ece265e-4f1e-4be0-849a-6e81fcfafc08')\"\n",
              "              title=\"Convert this dataframe to an interactive table.\"\n",
              "              style=\"display:none;\">\n",
              "        \n",
              "  <svg xmlns=\"http://www.w3.org/2000/svg\" height=\"24px\"viewBox=\"0 0 24 24\"\n",
              "       width=\"24px\">\n",
              "    <path d=\"M0 0h24v24H0V0z\" fill=\"none\"/>\n",
              "    <path d=\"M18.56 5.44l.94 2.06.94-2.06 2.06-.94-2.06-.94-.94-2.06-.94 2.06-2.06.94zm-11 1L8.5 8.5l.94-2.06 2.06-.94-2.06-.94L8.5 2.5l-.94 2.06-2.06.94zm10 10l.94 2.06.94-2.06 2.06-.94-2.06-.94-.94-2.06-.94 2.06-2.06.94z\"/><path d=\"M17.41 7.96l-1.37-1.37c-.4-.4-.92-.59-1.43-.59-.52 0-1.04.2-1.43.59L10.3 9.45l-7.72 7.72c-.78.78-.78 2.05 0 2.83L4 21.41c.39.39.9.59 1.41.59.51 0 1.02-.2 1.41-.59l7.78-7.78 2.81-2.81c.8-.78.8-2.07 0-2.86zM5.41 20L4 18.59l7.72-7.72 1.47 1.35L5.41 20z\"/>\n",
              "  </svg>\n",
              "      </button>\n",
              "      \n",
              "  <style>\n",
              "    .colab-df-container {\n",
              "      display:flex;\n",
              "      flex-wrap:wrap;\n",
              "      gap: 12px;\n",
              "    }\n",
              "\n",
              "    .colab-df-convert {\n",
              "      background-color: #E8F0FE;\n",
              "      border: none;\n",
              "      border-radius: 50%;\n",
              "      cursor: pointer;\n",
              "      display: none;\n",
              "      fill: #1967D2;\n",
              "      height: 32px;\n",
              "      padding: 0 0 0 0;\n",
              "      width: 32px;\n",
              "    }\n",
              "\n",
              "    .colab-df-convert:hover {\n",
              "      background-color: #E2EBFA;\n",
              "      box-shadow: 0px 1px 2px rgba(60, 64, 67, 0.3), 0px 1px 3px 1px rgba(60, 64, 67, 0.15);\n",
              "      fill: #174EA6;\n",
              "    }\n",
              "\n",
              "    [theme=dark] .colab-df-convert {\n",
              "      background-color: #3B4455;\n",
              "      fill: #D2E3FC;\n",
              "    }\n",
              "\n",
              "    [theme=dark] .colab-df-convert:hover {\n",
              "      background-color: #434B5C;\n",
              "      box-shadow: 0px 1px 3px 1px rgba(0, 0, 0, 0.15);\n",
              "      filter: drop-shadow(0px 1px 2px rgba(0, 0, 0, 0.3));\n",
              "      fill: #FFFFFF;\n",
              "    }\n",
              "  </style>\n",
              "\n",
              "      <script>\n",
              "        const buttonEl =\n",
              "          document.querySelector('#df-7ece265e-4f1e-4be0-849a-6e81fcfafc08 button.colab-df-convert');\n",
              "        buttonEl.style.display =\n",
              "          google.colab.kernel.accessAllowed ? 'block' : 'none';\n",
              "\n",
              "        async function convertToInteractive(key) {\n",
              "          const element = document.querySelector('#df-7ece265e-4f1e-4be0-849a-6e81fcfafc08');\n",
              "          const dataTable =\n",
              "            await google.colab.kernel.invokeFunction('convertToInteractive',\n",
              "                                                     [key], {});\n",
              "          if (!dataTable) return;\n",
              "\n",
              "          const docLinkHtml = 'Like what you see? Visit the ' +\n",
              "            '<a target=\"_blank\" href=https://colab.research.google.com/notebooks/data_table.ipynb>data table notebook</a>'\n",
              "            + ' to learn more about interactive tables.';\n",
              "          element.innerHTML = '';\n",
              "          dataTable['output_type'] = 'display_data';\n",
              "          await google.colab.output.renderOutput(dataTable, element);\n",
              "          const docLink = document.createElement('div');\n",
              "          docLink.innerHTML = docLinkHtml;\n",
              "          element.appendChild(docLink);\n",
              "        }\n",
              "      </script>\n",
              "    </div>\n",
              "  </div>\n",
              "  "
            ]
          },
          "metadata": {},
          "execution_count": 82
        }
      ],
      "source": [
        "dec_tree_metrics"
      ]
    },
    {
      "cell_type": "markdown",
      "id": "quality-aspect",
      "metadata": {
        "id": "quality-aspect"
      },
      "source": [
        "#### Multinomial Naive Bayes metrics"
      ]
    },
    {
      "cell_type": "code",
      "execution_count": null,
      "id": "lucky-chance",
      "metadata": {
        "ExecuteTime": {
          "end_time": "2021-08-01T02:35:22.423739Z",
          "start_time": "2021-08-01T02:35:22.412406Z"
        },
        "id": "lucky-chance",
        "outputId": "df5ccec4-70a1-43c3-c28f-b14fa9cf8f63",
        "colab": {
          "base_uri": "https://localhost:8080/",
          "height": 143
        }
      },
      "outputs": [
        {
          "output_type": "execute_result",
          "data": {
            "text/plain": [
              "   test_accuracy  test_precision_weighted  test_recall_weighted  \\\n",
              "0       0.962312                 0.963379              0.962312   \n",
              "1       0.949622                 0.951822              0.949622   \n",
              "2       0.977330                 0.977933              0.977330   \n",
              "\n",
              "   test_f1_weighted  \n",
              "0          0.962228  \n",
              "1          0.949058  \n",
              "2          0.977442  "
            ],
            "text/html": [
              "\n",
              "  <div id=\"df-99c70c1b-fc96-4338-ad8c-861b8fac65a8\">\n",
              "    <div class=\"colab-df-container\">\n",
              "      <div>\n",
              "<style scoped>\n",
              "    .dataframe tbody tr th:only-of-type {\n",
              "        vertical-align: middle;\n",
              "    }\n",
              "\n",
              "    .dataframe tbody tr th {\n",
              "        vertical-align: top;\n",
              "    }\n",
              "\n",
              "    .dataframe thead th {\n",
              "        text-align: right;\n",
              "    }\n",
              "</style>\n",
              "<table border=\"1\" class=\"dataframe\">\n",
              "  <thead>\n",
              "    <tr style=\"text-align: right;\">\n",
              "      <th></th>\n",
              "      <th>test_accuracy</th>\n",
              "      <th>test_precision_weighted</th>\n",
              "      <th>test_recall_weighted</th>\n",
              "      <th>test_f1_weighted</th>\n",
              "    </tr>\n",
              "  </thead>\n",
              "  <tbody>\n",
              "    <tr>\n",
              "      <th>0</th>\n",
              "      <td>0.962312</td>\n",
              "      <td>0.963379</td>\n",
              "      <td>0.962312</td>\n",
              "      <td>0.962228</td>\n",
              "    </tr>\n",
              "    <tr>\n",
              "      <th>1</th>\n",
              "      <td>0.949622</td>\n",
              "      <td>0.951822</td>\n",
              "      <td>0.949622</td>\n",
              "      <td>0.949058</td>\n",
              "    </tr>\n",
              "    <tr>\n",
              "      <th>2</th>\n",
              "      <td>0.977330</td>\n",
              "      <td>0.977933</td>\n",
              "      <td>0.977330</td>\n",
              "      <td>0.977442</td>\n",
              "    </tr>\n",
              "  </tbody>\n",
              "</table>\n",
              "</div>\n",
              "      <button class=\"colab-df-convert\" onclick=\"convertToInteractive('df-99c70c1b-fc96-4338-ad8c-861b8fac65a8')\"\n",
              "              title=\"Convert this dataframe to an interactive table.\"\n",
              "              style=\"display:none;\">\n",
              "        \n",
              "  <svg xmlns=\"http://www.w3.org/2000/svg\" height=\"24px\"viewBox=\"0 0 24 24\"\n",
              "       width=\"24px\">\n",
              "    <path d=\"M0 0h24v24H0V0z\" fill=\"none\"/>\n",
              "    <path d=\"M18.56 5.44l.94 2.06.94-2.06 2.06-.94-2.06-.94-.94-2.06-.94 2.06-2.06.94zm-11 1L8.5 8.5l.94-2.06 2.06-.94-2.06-.94L8.5 2.5l-.94 2.06-2.06.94zm10 10l.94 2.06.94-2.06 2.06-.94-2.06-.94-.94-2.06-.94 2.06-2.06.94z\"/><path d=\"M17.41 7.96l-1.37-1.37c-.4-.4-.92-.59-1.43-.59-.52 0-1.04.2-1.43.59L10.3 9.45l-7.72 7.72c-.78.78-.78 2.05 0 2.83L4 21.41c.39.39.9.59 1.41.59.51 0 1.02-.2 1.41-.59l7.78-7.78 2.81-2.81c.8-.78.8-2.07 0-2.86zM5.41 20L4 18.59l7.72-7.72 1.47 1.35L5.41 20z\"/>\n",
              "  </svg>\n",
              "      </button>\n",
              "      \n",
              "  <style>\n",
              "    .colab-df-container {\n",
              "      display:flex;\n",
              "      flex-wrap:wrap;\n",
              "      gap: 12px;\n",
              "    }\n",
              "\n",
              "    .colab-df-convert {\n",
              "      background-color: #E8F0FE;\n",
              "      border: none;\n",
              "      border-radius: 50%;\n",
              "      cursor: pointer;\n",
              "      display: none;\n",
              "      fill: #1967D2;\n",
              "      height: 32px;\n",
              "      padding: 0 0 0 0;\n",
              "      width: 32px;\n",
              "    }\n",
              "\n",
              "    .colab-df-convert:hover {\n",
              "      background-color: #E2EBFA;\n",
              "      box-shadow: 0px 1px 2px rgba(60, 64, 67, 0.3), 0px 1px 3px 1px rgba(60, 64, 67, 0.15);\n",
              "      fill: #174EA6;\n",
              "    }\n",
              "\n",
              "    [theme=dark] .colab-df-convert {\n",
              "      background-color: #3B4455;\n",
              "      fill: #D2E3FC;\n",
              "    }\n",
              "\n",
              "    [theme=dark] .colab-df-convert:hover {\n",
              "      background-color: #434B5C;\n",
              "      box-shadow: 0px 1px 3px 1px rgba(0, 0, 0, 0.15);\n",
              "      filter: drop-shadow(0px 1px 2px rgba(0, 0, 0, 0.3));\n",
              "      fill: #FFFFFF;\n",
              "    }\n",
              "  </style>\n",
              "\n",
              "      <script>\n",
              "        const buttonEl =\n",
              "          document.querySelector('#df-99c70c1b-fc96-4338-ad8c-861b8fac65a8 button.colab-df-convert');\n",
              "        buttonEl.style.display =\n",
              "          google.colab.kernel.accessAllowed ? 'block' : 'none';\n",
              "\n",
              "        async function convertToInteractive(key) {\n",
              "          const element = document.querySelector('#df-99c70c1b-fc96-4338-ad8c-861b8fac65a8');\n",
              "          const dataTable =\n",
              "            await google.colab.kernel.invokeFunction('convertToInteractive',\n",
              "                                                     [key], {});\n",
              "          if (!dataTable) return;\n",
              "\n",
              "          const docLinkHtml = 'Like what you see? Visit the ' +\n",
              "            '<a target=\"_blank\" href=https://colab.research.google.com/notebooks/data_table.ipynb>data table notebook</a>'\n",
              "            + ' to learn more about interactive tables.';\n",
              "          element.innerHTML = '';\n",
              "          dataTable['output_type'] = 'display_data';\n",
              "          await google.colab.output.renderOutput(dataTable, element);\n",
              "          const docLink = document.createElement('div');\n",
              "          docLink.innerHTML = docLinkHtml;\n",
              "          element.appendChild(docLink);\n",
              "        }\n",
              "      </script>\n",
              "    </div>\n",
              "  </div>\n",
              "  "
            ]
          },
          "metadata": {},
          "execution_count": 83
        }
      ],
      "source": [
        "nb_metrics"
      ]
    },
    {
      "cell_type": "markdown",
      "id": "identified-tragedy",
      "metadata": {
        "id": "identified-tragedy"
      },
      "source": [
        "#### Ridge Classifier metrics"
      ]
    },
    {
      "cell_type": "code",
      "execution_count": null,
      "id": "balanced-spain",
      "metadata": {
        "ExecuteTime": {
          "end_time": "2021-08-01T02:36:04.986734Z",
          "start_time": "2021-08-01T02:36:04.976516Z"
        },
        "id": "balanced-spain",
        "outputId": "8b29c68f-aa82-45a4-ab5d-9506be5934c9",
        "colab": {
          "base_uri": "https://localhost:8080/",
          "height": 143
        }
      },
      "outputs": [
        {
          "output_type": "execute_result",
          "data": {
            "text/plain": [
              "   test_accuracy  test_precision_weighted  test_recall_weighted  \\\n",
              "0       0.974874                 0.974963              0.974874   \n",
              "1       0.967254                 0.967557              0.967254   \n",
              "2       0.979849                 0.979958              0.979849   \n",
              "\n",
              "   test_f1_weighted  \n",
              "0          0.974797  \n",
              "1          0.967117  \n",
              "2          0.979828  "
            ],
            "text/html": [
              "\n",
              "  <div id=\"df-6a8d7747-5f42-4fa6-9a54-2f908727efcf\">\n",
              "    <div class=\"colab-df-container\">\n",
              "      <div>\n",
              "<style scoped>\n",
              "    .dataframe tbody tr th:only-of-type {\n",
              "        vertical-align: middle;\n",
              "    }\n",
              "\n",
              "    .dataframe tbody tr th {\n",
              "        vertical-align: top;\n",
              "    }\n",
              "\n",
              "    .dataframe thead th {\n",
              "        text-align: right;\n",
              "    }\n",
              "</style>\n",
              "<table border=\"1\" class=\"dataframe\">\n",
              "  <thead>\n",
              "    <tr style=\"text-align: right;\">\n",
              "      <th></th>\n",
              "      <th>test_accuracy</th>\n",
              "      <th>test_precision_weighted</th>\n",
              "      <th>test_recall_weighted</th>\n",
              "      <th>test_f1_weighted</th>\n",
              "    </tr>\n",
              "  </thead>\n",
              "  <tbody>\n",
              "    <tr>\n",
              "      <th>0</th>\n",
              "      <td>0.974874</td>\n",
              "      <td>0.974963</td>\n",
              "      <td>0.974874</td>\n",
              "      <td>0.974797</td>\n",
              "    </tr>\n",
              "    <tr>\n",
              "      <th>1</th>\n",
              "      <td>0.967254</td>\n",
              "      <td>0.967557</td>\n",
              "      <td>0.967254</td>\n",
              "      <td>0.967117</td>\n",
              "    </tr>\n",
              "    <tr>\n",
              "      <th>2</th>\n",
              "      <td>0.979849</td>\n",
              "      <td>0.979958</td>\n",
              "      <td>0.979849</td>\n",
              "      <td>0.979828</td>\n",
              "    </tr>\n",
              "  </tbody>\n",
              "</table>\n",
              "</div>\n",
              "      <button class=\"colab-df-convert\" onclick=\"convertToInteractive('df-6a8d7747-5f42-4fa6-9a54-2f908727efcf')\"\n",
              "              title=\"Convert this dataframe to an interactive table.\"\n",
              "              style=\"display:none;\">\n",
              "        \n",
              "  <svg xmlns=\"http://www.w3.org/2000/svg\" height=\"24px\"viewBox=\"0 0 24 24\"\n",
              "       width=\"24px\">\n",
              "    <path d=\"M0 0h24v24H0V0z\" fill=\"none\"/>\n",
              "    <path d=\"M18.56 5.44l.94 2.06.94-2.06 2.06-.94-2.06-.94-.94-2.06-.94 2.06-2.06.94zm-11 1L8.5 8.5l.94-2.06 2.06-.94-2.06-.94L8.5 2.5l-.94 2.06-2.06.94zm10 10l.94 2.06.94-2.06 2.06-.94-2.06-.94-.94-2.06-.94 2.06-2.06.94z\"/><path d=\"M17.41 7.96l-1.37-1.37c-.4-.4-.92-.59-1.43-.59-.52 0-1.04.2-1.43.59L10.3 9.45l-7.72 7.72c-.78.78-.78 2.05 0 2.83L4 21.41c.39.39.9.59 1.41.59.51 0 1.02-.2 1.41-.59l7.78-7.78 2.81-2.81c.8-.78.8-2.07 0-2.86zM5.41 20L4 18.59l7.72-7.72 1.47 1.35L5.41 20z\"/>\n",
              "  </svg>\n",
              "      </button>\n",
              "      \n",
              "  <style>\n",
              "    .colab-df-container {\n",
              "      display:flex;\n",
              "      flex-wrap:wrap;\n",
              "      gap: 12px;\n",
              "    }\n",
              "\n",
              "    .colab-df-convert {\n",
              "      background-color: #E8F0FE;\n",
              "      border: none;\n",
              "      border-radius: 50%;\n",
              "      cursor: pointer;\n",
              "      display: none;\n",
              "      fill: #1967D2;\n",
              "      height: 32px;\n",
              "      padding: 0 0 0 0;\n",
              "      width: 32px;\n",
              "    }\n",
              "\n",
              "    .colab-df-convert:hover {\n",
              "      background-color: #E2EBFA;\n",
              "      box-shadow: 0px 1px 2px rgba(60, 64, 67, 0.3), 0px 1px 3px 1px rgba(60, 64, 67, 0.15);\n",
              "      fill: #174EA6;\n",
              "    }\n",
              "\n",
              "    [theme=dark] .colab-df-convert {\n",
              "      background-color: #3B4455;\n",
              "      fill: #D2E3FC;\n",
              "    }\n",
              "\n",
              "    [theme=dark] .colab-df-convert:hover {\n",
              "      background-color: #434B5C;\n",
              "      box-shadow: 0px 1px 3px 1px rgba(0, 0, 0, 0.15);\n",
              "      filter: drop-shadow(0px 1px 2px rgba(0, 0, 0, 0.3));\n",
              "      fill: #FFFFFF;\n",
              "    }\n",
              "  </style>\n",
              "\n",
              "      <script>\n",
              "        const buttonEl =\n",
              "          document.querySelector('#df-6a8d7747-5f42-4fa6-9a54-2f908727efcf button.colab-df-convert');\n",
              "        buttonEl.style.display =\n",
              "          google.colab.kernel.accessAllowed ? 'block' : 'none';\n",
              "\n",
              "        async function convertToInteractive(key) {\n",
              "          const element = document.querySelector('#df-6a8d7747-5f42-4fa6-9a54-2f908727efcf');\n",
              "          const dataTable =\n",
              "            await google.colab.kernel.invokeFunction('convertToInteractive',\n",
              "                                                     [key], {});\n",
              "          if (!dataTable) return;\n",
              "\n",
              "          const docLinkHtml = 'Like what you see? Visit the ' +\n",
              "            '<a target=\"_blank\" href=https://colab.research.google.com/notebooks/data_table.ipynb>data table notebook</a>'\n",
              "            + ' to learn more about interactive tables.';\n",
              "          element.innerHTML = '';\n",
              "          dataTable['output_type'] = 'display_data';\n",
              "          await google.colab.output.renderOutput(dataTable, element);\n",
              "          const docLink = document.createElement('div');\n",
              "          docLink.innerHTML = docLinkHtml;\n",
              "          element.appendChild(docLink);\n",
              "        }\n",
              "      </script>\n",
              "    </div>\n",
              "  </div>\n",
              "  "
            ]
          },
          "metadata": {},
          "execution_count": 84
        }
      ],
      "source": [
        "r_metrics"
      ]
    },
    {
      "cell_type": "markdown",
      "id": "greenhouse-minutes",
      "metadata": {
        "id": "greenhouse-minutes"
      },
      "source": [
        "#### Average metrics"
      ]
    },
    {
      "cell_type": "code",
      "execution_count": null,
      "id": "stainless-composite",
      "metadata": {
        "ExecuteTime": {
          "end_time": "2021-08-01T02:39:58.060999Z",
          "start_time": "2021-08-01T02:39:58.049490Z"
        },
        "id": "stainless-composite",
        "outputId": "2cbea80a-ecf1-4a36-89bb-2090164d4349",
        "colab": {
          "base_uri": "https://localhost:8080/"
        }
      },
      "outputs": [
        {
          "output_type": "stream",
          "name": "stdout",
          "text": [
            "Decision Tree Mean Metrics:\n",
            "test_accuracy              0.786915\n",
            "test_precision_weighted    0.789922\n",
            "test_recall_weighted       0.786915\n",
            "test_f1_weighted           0.786576\n",
            "dtype: float64\n",
            "  \n",
            "Naive Bayes Mean Metrics:\n",
            "test_accuracy              0.963088\n",
            "test_precision_weighted    0.964378\n",
            "test_recall_weighted       0.963088\n",
            "test_f1_weighted           0.962910\n",
            "dtype: float64\n",
            "  \n",
            "Ridge Classifier Mean Metrics:\n",
            "test_accuracy              0.973993\n",
            "test_precision_weighted    0.974159\n",
            "test_recall_weighted       0.973993\n",
            "test_f1_weighted           0.973914\n",
            "dtype: float64\n",
            "  \n"
          ]
        }
      ],
      "source": [
        "metrics_ = [dec_tree_metrics, nb_metrics, r_metrics]\n",
        "names_ = ['Decision Tree', 'Naive Bayes', 'Ridge Classifier']\n",
        "\n",
        "for scores, namess in zip(metrics_, names_):\n",
        "    print(f'{namess} Mean Metrics:')\n",
        "    print(scores.mean())\n",
        "    print('  ')"
      ]
    },
    {
      "cell_type": "markdown",
      "id": "polish-speaking",
      "metadata": {
        "id": "polish-speaking"
      },
      "source": [
        "### Selection of Model\n",
        "From the metrics obtained above, we see that **Ridge Classifier** performs best. However, the **Multinomial Naive Bayes classifier** is chosen to create the final model.\n",
        "\n",
        "This is because it **has the ability to provide probability score** for each prediction it makes, while scoring similarly to the best model."
      ]
    },
    {
      "cell_type": "code",
      "execution_count": null,
      "id": "dense-guyana",
      "metadata": {
        "ExecuteTime": {
          "end_time": "2021-08-01T02:44:16.662468Z",
          "start_time": "2021-08-01T02:44:16.580681Z"
        },
        "id": "dense-guyana"
      },
      "outputs": [],
      "source": [
        "# Join training and test datasets\n",
        "X = pd.concat([X_train,\n",
        "               X_test])\n",
        "y = pd.concat([y_train,\n",
        "               y_test])"
      ]
    },
    {
      "cell_type": "code",
      "execution_count": null,
      "id": "british-sydney",
      "metadata": {
        "ExecuteTime": {
          "end_time": "2021-08-01T02:44:29.080314Z",
          "start_time": "2021-08-01T02:44:29.044334Z"
        },
        "id": "british-sydney"
      },
      "outputs": [],
      "source": [
        "def create_and_fit(clf, x, y):\n",
        "    best_clf = clf\n",
        "    pipeline = Pipeline([('vectorize', vector), ('model', best_clf)])\n",
        "    return pipeline.fit(x, y)"
      ]
    },
    {
      "cell_type": "code",
      "execution_count": null,
      "id": "stock-irish",
      "metadata": {
        "ExecuteTime": {
          "end_time": "2021-08-01T02:45:18.860042Z",
          "start_time": "2021-08-01T02:45:17.006039Z"
        },
        "id": "stock-irish"
      },
      "outputs": [],
      "source": [
        "# Create model\n",
        "CLASSYfier = create_and_fit(MultinomialNB(), X, y)"
      ]
    },
    {
      "cell_type": "code",
      "execution_count": null,
      "id": "united-syndication",
      "metadata": {
        "ExecuteTime": {
          "end_time": "2021-08-01T02:45:44.869993Z",
          "start_time": "2021-08-01T02:45:44.846627Z"
        },
        "id": "united-syndication",
        "outputId": "345afd6f-6e61-4b85-b43c-19ffe6712601",
        "colab": {
          "base_uri": "https://localhost:8080/"
        }
      },
      "outputs": [
        {
          "output_type": "execute_result",
          "data": {
            "text/plain": [
              "array(['business', 'entertainment', 'politics', 'sport', 'tech'],\n",
              "      dtype='<U13')"
            ]
          },
          "metadata": {},
          "execution_count": 89
        }
      ],
      "source": [
        "CLASSYfier.classes_"
      ]
    },
    {
      "cell_type": "markdown",
      "id": "differential-substance",
      "metadata": {
        "id": "differential-substance"
      },
      "source": [
        "## FINAL TESTING:\n",
        "\n",
        "The first sample text used is a tech news article about streaming services and video games.\n",
        "\n",
        "The classifier, if appropriate, should classify this as a Sport text."
      ]
    },
    {
      "cell_type": "code",
      "execution_count": null,
      "id": "external-reminder",
      "metadata": {
        "ExecuteTime": {
          "end_time": "2021-08-01T02:47:36.005810Z",
          "start_time": "2021-08-01T02:47:35.960191Z"
        },
        "id": "external-reminder",
        "outputId": "ec097e9f-71b2-45b8-b127-4ae19d97ccbf",
        "colab": {
          "base_uri": "https://localhost:8080/"
        }
      },
      "outputs": [
        {
          "output_type": "execute_result",
          "data": {
            "text/plain": [
              "array([[0.15158012, 0.07091782, 0.07823783, 0.6458866 , 0.05337763]])"
            ]
          },
          "metadata": {},
          "execution_count": 93
        }
      ],
      "source": [
        "input_text = 'Manchester City end interest in West Ham midfielder Declan Rice after having £90m bid rejected; Arsenal have submitted a third bid worth £105m which City are not prepared to match or surpass'\n",
        "CLASSYfier.predict_proba([input_text])"
      ]
    },
    {
      "cell_type": "code",
      "execution_count": null,
      "id": "headed-render",
      "metadata": {
        "ExecuteTime": {
          "end_time": "2021-08-01T03:14:11.710315Z",
          "start_time": "2021-08-01T03:14:11.693640Z"
        },
        "id": "headed-render",
        "outputId": "3417de5a-485d-46e6-ed98-4738f1d688df",
        "colab": {
          "base_uri": "https://localhost:8080/",
          "height": 35
        }
      },
      "outputs": [
        {
          "output_type": "execute_result",
          "data": {
            "text/plain": [
              "'sport'"
            ],
            "application/vnd.google.colaboratory.intrinsic+json": {
              "type": "string"
            }
          },
          "metadata": {},
          "execution_count": 94
        }
      ],
      "source": [
        "CLASSYfier.predict([input_text])[0]"
      ]
    },
    {
      "cell_type": "markdown",
      "id": "champion-found",
      "metadata": {
        "id": "champion-found"
      },
      "source": [
        "Interestingly, since the streaming services are also businesses, the model reflects this with a `0.39` probability for the business category."
      ]
    },
    {
      "cell_type": "markdown",
      "id": "mediterranean-diamond",
      "metadata": {
        "id": "mediterranean-diamond"
      },
      "source": [
        "## GUI"
      ]
    },
    {
      "cell_type": "code",
      "execution_count": 95,
      "id": "military-sense",
      "metadata": {
        "ExecuteTime": {
          "end_time": "2021-08-01T22:54:14.333183Z",
          "start_time": "2021-08-01T22:40:20.981984Z"
        },
        "id": "military-sense"
      },
      "outputs": [],
      "source": [
        "import tkinter as tk\n",
        "from tkinter.scrolledtext import ScrolledText\n",
        "\n",
        "\n",
        "window = tk.Tk()\n",
        "\n",
        "\n",
        "window.title(\"TEXT CLASSIFIER\")\n",
        "window.minsize(600,400)\n",
        "\n",
        "text_box = ScrolledText(window)\n",
        "text_box.grid(column=0, row=1, padx=5, pady=5)\n",
        "\n",
        "def result(res, pr):\n",
        "    BUSINESS = round(pr[0][0], 3)\n",
        "    HEALTH = round(pr[0][1], 3)\n",
        "    SPORT = round(pr[0][2], 3)\n",
        "\n",
        "\n",
        "    lines = [ f\"Business: {BUSINESS}\",f\"Health: {HEALTH}\", f\"Sport: {SPORT}\"]\n",
        "    tk.messagebox.showinfo(message= f\"Predicted Category: {str(res).capitalize()}\" + \"\\n\\n\\n\"+\"\\n\".join(lines))\n",
        "\n",
        "def clickMe():\n",
        "    classification = tk.StringVar()\n",
        "    category_,probabilities = classify_text(text_box.get(\"1.0\",tk.END))\n",
        "    result(category_, probabilities)\n",
        "\n",
        "\n",
        "def classify_text(input_text):\n",
        "    out = CLASSYfier.predict([input_text])[0]\n",
        "    probs = CLASSYfier.predict_proba([input_text])\n",
        "    return out,probs\n",
        "\n",
        "label = tk.Label(window, text = \"Enter Text to be classified\")\n",
        "label.grid(column = 0, row = 0)\n",
        "\n",
        "btn = tk.Button(window, text=\"Classify\", command=clickMe)\n",
        "btn.grid(column=0, row=2)\n",
        "\n",
        "\n",
        "\n",
        "\n",
        "window.mainloop()"
      ]
    },
    {
      "cell_type": "code",
      "execution_count": null,
      "id": "exposed-hayes",
      "metadata": {
        "id": "exposed-hayes"
      },
      "outputs": [],
      "source": []
    },
    {
      "cell_type": "code",
      "execution_count": null,
      "id": "processed-wilson",
      "metadata": {
        "id": "processed-wilson"
      },
      "outputs": [],
      "source": []
    }
  ],
  "metadata": {
    "kernelspec": {
      "display_name": "Python 3",
      "language": "python",
      "name": "python3"
    },
    "language_info": {
      "codemirror_mode": {
        "name": "ipython",
        "version": 3
      },
      "file_extension": ".py",
      "mimetype": "text/x-python",
      "name": "python",
      "nbconvert_exporter": "python",
      "pygments_lexer": "ipython3",
      "version": "3.11.3"
    },
    "varInspector": {
      "cols": {
        "lenName": 16,
        "lenType": 16,
        "lenVar": 40
      },
      "kernels_config": {
        "python": {
          "delete_cmd_postfix": "",
          "delete_cmd_prefix": "del ",
          "library": "var_list.py",
          "varRefreshCmd": "print(var_dic_list())"
        },
        "r": {
          "delete_cmd_postfix": ") ",
          "delete_cmd_prefix": "rm(",
          "library": "var_list.r",
          "varRefreshCmd": "cat(var_dic_list()) "
        }
      },
      "types_to_exclude": [
        "module",
        "function",
        "builtin_function_or_method",
        "instance",
        "_Feature"
      ],
      "window_display": false
    },
    "colab": {
      "provenance": []
    }
  },
  "nbformat": 4,
  "nbformat_minor": 5
}